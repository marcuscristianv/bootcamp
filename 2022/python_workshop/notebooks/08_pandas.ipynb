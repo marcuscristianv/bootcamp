{
 "cells": [
  {
   "cell_type": "markdown",
   "metadata": {},
   "source": [
    "# Fun with Pandas\n",
    "\n",
    "We will use data from the [ergast API](https://ergast.com/mrd/) for the following examples.\n",
    "\n",
    "[Ergast Postman collection with documentation](https://documenter.getpostman.com/view/11586746/SztEa7bL)"
   ]
  },
  {
   "cell_type": "markdown",
   "metadata": {},
   "source": [
    "## What's a Dataframe again?\n",
    "A **DataFrame** is composed of one or more **Series**. \n",
    "The names of the **Series** form the column names, and the row labels form the **Index**.\n",
    "\n",
    "You may create a Dataframe in multiple ways, i.e.\n",
    "* data from a file - df.read_csv(...)\n",
    "* data from an API - df = pd.Dataframe(json_payload)\n",
    "* data from a db\n",
    "* ...\n",
    "\n"
   ]
  },
  {
   "cell_type": "code",
   "execution_count": null,
   "metadata": {},
   "outputs": [],
   "source": [
    "# first, install the requirements\n",
    "%pip install -r ../requirements.txt >> results/requirements_log.txt"
   ]
  },
  {
   "cell_type": "code",
   "execution_count": null,
   "metadata": {},
   "outputs": [],
   "source": [
    "# import the needed libraries\n",
    "import requests\n",
    "import pandas as pd\n",
    "import numpy as np"
   ]
  },
  {
   "cell_type": "code",
   "execution_count": null,
   "metadata": {},
   "outputs": [],
   "source": [
    "# analyse a sample\n",
    "\n",
    "url = 'https://ergast.com/api/f1/2022.json'\n",
    "r = requests.get(url)\n",
    "j = r.json()\n",
    "\n",
    "df = pd.DataFrame(j['MRData']['RaceTable']['Races'])\n",
    "\n",
    "df.head()\n"
   ]
  },
  {
   "cell_type": "code",
   "execution_count": null,
   "metadata": {},
   "outputs": [],
   "source": [
    "# pull the f1 2022 season races information from the ergast API\n",
    "\n",
    "f1_races_2022 = {\n",
    "    'season': [],\n",
    "    'round': [],\n",
    "    'circuit_id': [],\n",
    "    'raceName': [],\n",
    "    'url': [],\n",
    "    'LAT': [],\n",
    "    'LONG': [],\n",
    "    'locality': [],\n",
    "    'country': [],\n",
    "    'date': [],\n",
    "    'time': []\n",
    "}\n",
    "\n",
    "url = 'https://ergast.com/api/f1/2022.json'\n",
    "r = requests.get(url)\n",
    "print(r)\n",
    "j = r.json()\n",
    "\n",
    "for item in j['MRData']['RaceTable']['Races']:\n",
    "    try:\n",
    "        f1_races_2022['season'].append(int(item['season']))\n",
    "        f1_races_2022['round'].append(int(item['round']))\n",
    "        f1_races_2022['circuit_id'].append(item['Circuit']['circuitId'])\n",
    "        f1_races_2022['raceName'].append(item['raceName'])\n",
    "        f1_races_2022['url'].append(item['url'])\n",
    "        f1_races_2022['LAT'].append(float(item['Circuit']['Location']['lat']))\n",
    "        f1_races_2022['LONG'].append(float(item['Circuit']['Location']['long']))\n",
    "        f1_races_2022['locality'].append(item['Circuit']['Location']['locality'])\n",
    "        f1_races_2022['country'].append(item['Circuit']['Location']['country'])\n",
    "        f1_races_2022['date'].append(item['date'])\n",
    "        f1_races_2022['time'].append(item.get('time'))\n",
    "    except Exception as e:\n",
    "        print(f'Error adding item: {item}')\n",
    "        print(e)\n",
    "        raise\n",
    "\n",
    "f1_races_2022 = pd.DataFrame(f1_races_2022)\n",
    "f1_races_2022"
   ]
  },
  {
   "cell_type": "code",
   "execution_count": null,
   "metadata": {},
   "outputs": [],
   "source": [
    "# in order not to stress the API, use the backup file for the historical data\n",
    "f1_races = pd.read_csv('./resources/f1_races.csv', index_col=0)"
   ]
  },
  {
   "cell_type": "code",
   "execution_count": null,
   "metadata": {},
   "outputs": [],
   "source": [
    "f1_races.head()"
   ]
  },
  {
   "cell_type": "markdown",
   "metadata": {},
   "source": [
    "### Series"
   ]
  },
  {
   "cell_type": "code",
   "execution_count": null,
   "metadata": {},
   "outputs": [],
   "source": [
    "f1_races.circuit_id"
   ]
  },
  {
   "cell_type": "markdown",
   "metadata": {},
   "source": [
    "### Columns"
   ]
  },
  {
   "cell_type": "code",
   "execution_count": null,
   "metadata": {},
   "outputs": [],
   "source": [
    "f1_races.columns"
   ]
  },
  {
   "cell_type": "markdown",
   "metadata": {},
   "source": [
    "### Index"
   ]
  },
  {
   "cell_type": "code",
   "execution_count": null,
   "metadata": {},
   "outputs": [],
   "source": [
    "f1_races.index"
   ]
  },
  {
   "cell_type": "markdown",
   "metadata": {},
   "source": [
    "### Inspect the data"
   ]
  },
  {
   "cell_type": "code",
   "execution_count": null,
   "metadata": {},
   "outputs": [],
   "source": [
    "f1_races.shape"
   ]
  },
  {
   "cell_type": "markdown",
   "metadata": {},
   "source": [
    "### What are the column data types?"
   ]
  },
  {
   "cell_type": "code",
   "execution_count": null,
   "metadata": {},
   "outputs": [],
   "source": [
    "f1_races.dtypes"
   ]
  },
  {
   "cell_type": "markdown",
   "metadata": {},
   "source": [
    "### What does the data look like?"
   ]
  },
  {
   "cell_type": "code",
   "execution_count": null,
   "metadata": {},
   "outputs": [],
   "source": [
    "f1_races.head(2)"
   ]
  },
  {
   "cell_type": "code",
   "execution_count": null,
   "metadata": {},
   "outputs": [],
   "source": [
    "f1_races.tail(2)"
   ]
  },
  {
   "cell_type": "markdown",
   "metadata": {},
   "source": [
    "### Information on the Dataframe"
   ]
  },
  {
   "cell_type": "code",
   "execution_count": null,
   "metadata": {},
   "outputs": [],
   "source": [
    "f1_races.info()"
   ]
  },
  {
   "cell_type": "code",
   "execution_count": null,
   "metadata": {},
   "outputs": [],
   "source": [
    "f1_races[['season', 'date', 'country']].head()"
   ]
  },
  {
   "cell_type": "code",
   "execution_count": null,
   "metadata": {},
   "outputs": [],
   "source": [
    "f1_races[1068:1076]"
   ]
  },
  {
   "cell_type": "markdown",
   "metadata": {},
   "source": [
    "### Indexing\n",
    "Use `iloc[]` to select rows and columns by their positions:"
   ]
  },
  {
   "cell_type": "code",
   "execution_count": null,
   "metadata": {},
   "outputs": [],
   "source": [
    "f1_races.iloc[1068:1076, [0, 2, 5, 6]]"
   ]
  },
  {
   "cell_type": "markdown",
   "metadata": {},
   "source": [
    "Use `loc[]` to select by name:"
   ]
  },
  {
   "cell_type": "code",
   "execution_count": null,
   "metadata": {},
   "outputs": [],
   "source": [
    "f1_races.loc[1068:1076, 'season':'circuit_id']\n"
   ]
  },
  {
   "cell_type": "markdown",
   "metadata": {},
   "source": [
    "### Filtering\n",
    "A **Boolean mask** is a array-like structure of Boolean values – it's a way to specify which rows/columns we want to select (True) and which we don't (False)."
   ]
  },
  {
   "cell_type": "code",
   "execution_count": null,
   "metadata": {},
   "outputs": [],
   "source": [
    "f1_races[f1_races['season'] == 2022]"
   ]
  },
  {
   "cell_type": "code",
   "execution_count": null,
   "metadata": {},
   "outputs": [],
   "source": [
    "f1_races[(f1_races['season'] == 2022) & (f1_races['date'] < '2022-09-01')]"
   ]
  },
  {
   "cell_type": "markdown",
   "metadata": {},
   "source": [
    "We can also use query instead:"
   ]
  },
  {
   "cell_type": "code",
   "execution_count": null,
   "metadata": {},
   "outputs": [],
   "source": [
    "f1_races.query(\"`season` == 2022 and `date` < '2022-09-01'\")"
   ]
  },
  {
   "cell_type": "markdown",
   "metadata": {},
   "source": [
    "### Statistics"
   ]
  },
  {
   "cell_type": "code",
   "execution_count": null,
   "metadata": {},
   "outputs": [],
   "source": [
    "# how many races were held in each country throughout the years?\n",
    "f1_races.country.value_counts()"
   ]
  },
  {
   "cell_type": "code",
   "execution_count": null,
   "metadata": {},
   "outputs": [],
   "source": [
    "# how many circuits in each season?\n",
    "f1_races.season.value_counts()"
   ]
  },
  {
   "cell_type": "code",
   "execution_count": null,
   "metadata": {},
   "outputs": [],
   "source": [
    "# how many circuits between 1955 and 1975?\n",
    "f1_races[(f1_races['date'] >= '1955') & (f1_races['date'] <= '1975')].season.value_counts().sum()"
   ]
  },
  {
   "cell_type": "markdown",
   "metadata": {},
   "source": [
    "### Continue with the race results"
   ]
  },
  {
   "cell_type": "code",
   "execution_count": null,
   "metadata": {},
   "outputs": [],
   "source": [
    "# analyse a sample\n",
    "url = 'https://ergast.com/api/f1/2022/12/results.json'\n",
    "r = requests.get(url)\n",
    "j = r.json()\n",
    "\n",
    "df = pd.DataFrame(j['MRData']['RaceTable']['Races'][0]['Results'])\n",
    "\n",
    "df.head()"
   ]
  },
  {
   "cell_type": "code",
   "execution_count": null,
   "metadata": {},
   "outputs": [],
   "source": [
    "# get the latest race's results\n",
    "\n",
    "f1_results_latest = {\n",
    "    'season': [],\n",
    "    'Round': [],\n",
    "    'date': [],\n",
    "    'circuit_id': [],\n",
    "    'driver': [],\n",
    "    'DATE_of_birth': [],\n",
    "    'nationality': [],\n",
    "    'constructor': [],\n",
    "    'GriD': [],\n",
    "    'tIME': [],\n",
    "    'Status': [],\n",
    "    'points': [],\n",
    "    'podium': []\n",
    "}\n",
    "\n",
    "url_latest = 'https://ergast.com/api/f1/current/last/results.json'\n",
    "r = requests.get(url_latest)\n",
    "print(r)\n",
    "j = r.json()\n",
    "\n",
    "try:\n",
    "    for item in j['MRData']['RaceTable']['Races'][0]['Results']:\n",
    "        try:\n",
    "            f1_results_latest['season'].append(int(j['MRData']['RaceTable']['Races'][0]['season']))\n",
    "            f1_results_latest['Round'].append(int(j['MRData']['RaceTable']['Races'][0]['round']))\n",
    "            f1_results_latest['date'].append(j['MRData']['RaceTable']['Races'][0]['date'])\n",
    "            f1_results_latest['circuit_id'].append(j['MRData']['RaceTable']['Races'][0]['Circuit']['circuitId'])\n",
    "            f1_results_latest['driver'].append(item['Driver']['driverId'])\n",
    "            f1_results_latest['DATE_of_birth'].append(item['Driver']['dateOfBirth'])\n",
    "            f1_results_latest['nationality'].append(item['Driver']['nationality'])\n",
    "            f1_results_latest['constructor'].append(item['Constructor']['constructorId'])\n",
    "            f1_results_latest['GriD'].append(int(item['grid']))\n",
    "            f1_results_latest['tIME'].append(int((item.get('Time') or {}).get('millis')) \n",
    "        if bool((item.get('Time') or {}).get('millis')) else None)\n",
    "            f1_results_latest['Status'].append(item['status'])\n",
    "            f1_results_latest['points'].append(item['points'])\n",
    "            f1_results_latest['podium'].append(int(item['position']))\n",
    "        except Exception as e:\n",
    "            print(f'Error adding item: {item}')\n",
    "            print(e)\n",
    "            raise\n",
    "except IndexError:\n",
    "    print(f'Race has not happened yet... ')\n",
    "\n",
    "\n",
    "f1_results_latest = pd.DataFrame(f1_results_latest)\n",
    "\n",
    "f1_results_latest.head()"
   ]
  },
  {
   "cell_type": "code",
   "execution_count": null,
   "metadata": {},
   "outputs": [],
   "source": [
    "# in order not to stress the API, use the backup file for the historical data\n",
    "\n",
    "f1_results = pd.read_csv('./resources/f1_results.csv', index_col=0)\n",
    "\n",
    "# the code that generated the backup files is available in the resouces section\n"
   ]
  },
  {
   "cell_type": "code",
   "execution_count": null,
   "metadata": {},
   "outputs": [],
   "source": [
    "f1_results.head()"
   ]
  },
  {
   "cell_type": "code",
   "execution_count": null,
   "metadata": {},
   "outputs": [],
   "source": [
    "# find the dimensions (number of rows, number of columns) in the data\n",
    "f1_results.shape"
   ]
  },
  {
   "cell_type": "code",
   "execution_count": null,
   "metadata": {},
   "outputs": [],
   "source": [
    "# calculate summary statistics for nationality and points (median)\n",
    "f1_results[['nationality', 'points']].groupby('nationality').describe()"
   ]
  },
  {
   "cell_type": "code",
   "execution_count": null,
   "metadata": {},
   "outputs": [],
   "source": [
    "# isolate the date, race name, driver and constructor for the 1999 season\n",
    "f1_results.query(\"`season` == 1999\")[['date', 'circuit_id', 'driver', 'constructor']]"
   ]
  },
  {
   "cell_type": "code",
   "execution_count": null,
   "metadata": {},
   "outputs": [],
   "source": [
    "# how many wins for McLaren between 1975 and 1985?\n",
    "f1_results[(f1_results['constructor'] == 'mclaren') & (f1_results['season'] >= 1975) & (f1_results['season'] >= 1975) & (f1_results['season'] <= 1985) & (f1_results['podium'] == 1)].value_counts().sum()\n"
   ]
  },
  {
   "cell_type": "markdown",
   "metadata": {},
   "source": [
    "## Data cleaning\n",
    "\n",
    "We'll be looking at creating, renaming, and dropping columns, type conversion and sorting - which will make working with this data easier\n",
    "\n",
    "### Dropping columns\n",
    "Our dataset may contain information that is not of interest for our analysis."
   ]
  },
  {
   "cell_type": "code",
   "execution_count": null,
   "metadata": {},
   "outputs": [],
   "source": [
    "# from the f1_races df, let's remove the url column\n",
    "mask = f1_races.columns.str.contains('url$', regex=True)\n",
    "columns_to_drop = f1_races.columns[mask]\n",
    "columns_to_drop"
   ]
  },
  {
   "cell_type": "code",
   "execution_count": null,
   "metadata": {},
   "outputs": [],
   "source": [
    "f1_races = f1_races.drop(columns=columns_to_drop)\n",
    "f1_races.head()"
   ]
  },
  {
   "cell_type": "code",
   "execution_count": null,
   "metadata": {},
   "outputs": [],
   "source": [
    "# another way to do this is to select what we want to keep\n",
    "mask = f1_races.columns.str.contains('url$|round', regex=True)\n",
    "f1_races.loc[:,~mask]"
   ]
  },
  {
   "cell_type": "code",
   "execution_count": null,
   "metadata": {},
   "outputs": [],
   "source": [
    "# or simply\n",
    "f1_races.drop('time', axis=1, inplace=True)"
   ]
  },
  {
   "cell_type": "code",
   "execution_count": null,
   "metadata": {},
   "outputs": [],
   "source": [
    "f1_races.head()"
   ]
  },
  {
   "cell_type": "markdown",
   "metadata": {},
   "source": [
    "### Renaming columns\n",
    "Some of the columns have weird names. Let's fix that."
   ]
  },
  {
   "cell_type": "code",
   "execution_count": null,
   "metadata": {},
   "outputs": [],
   "source": [
    "f1_races.rename(\n",
    "    columns={\n",
    "        'raceName': 'race_name'\n",
    "    },\n",
    "    inplace=True # careful with this!\n",
    ")\n",
    "f1_races.columns"
   ]
  },
  {
   "cell_type": "markdown",
   "metadata": {},
   "source": [
    "### Type conversion\n",
    "Is there something weird about these columns?"
   ]
  },
  {
   "cell_type": "code",
   "execution_count": null,
   "metadata": {},
   "outputs": [],
   "source": [
    "f1_races.dtypes"
   ]
  },
  {
   "cell_type": "code",
   "execution_count": null,
   "metadata": {},
   "outputs": [],
   "source": [
    "# date should be stored as datetime!\n",
    "f1_races.loc[:, ['date']] = f1_races.loc[:, ['date']].apply(pd.to_datetime)\n",
    "f1_races.dtypes"
   ]
  },
  {
   "cell_type": "code",
   "execution_count": null,
   "metadata": {},
   "outputs": [],
   "source": [
    "# or\n",
    "f1_races.loc[:, ['date']].astype({'date': 'datetime64[ns]'}).dtypes"
   ]
  },
  {
   "cell_type": "markdown",
   "metadata": {},
   "source": [
    "### Creating new columns\n",
    "Let's create a 'race_month' column."
   ]
  },
  {
   "cell_type": "code",
   "execution_count": null,
   "metadata": {},
   "outputs": [],
   "source": [
    "f1_races = f1_races.assign(\n",
    "    race_month=lambda x: x.date.dt.month_name()\n",
    ")"
   ]
  },
  {
   "cell_type": "markdown",
   "metadata": {},
   "source": [
    "You can read more about Python lambda functions [here](https://realpython.com/python-lambda/)."
   ]
  },
  {
   "cell_type": "code",
   "execution_count": null,
   "metadata": {},
   "outputs": [],
   "source": [
    "f1_races.head()"
   ]
  },
  {
   "cell_type": "markdown",
   "metadata": {},
   "source": [
    "### Sorting"
   ]
  },
  {
   "cell_type": "code",
   "execution_count": null,
   "metadata": {},
   "outputs": [],
   "source": [
    "f1_races.sort_values(['race_name', 'date'], ascending=[False, True]).head()\n"
   ]
  },
  {
   "cell_type": "code",
   "execution_count": null,
   "metadata": {},
   "outputs": [],
   "source": [
    "f1_races.nlargest(3, 'date')"
   ]
  },
  {
   "cell_type": "code",
   "execution_count": null,
   "metadata": {},
   "outputs": [],
   "source": [
    "f1_races.nsmallest(3, 'date')\n"
   ]
  },
  {
   "cell_type": "markdown",
   "metadata": {},
   "source": [
    "## Working with the index\n",
    "We haven't really worked with the index because it's just been a row number; however, we can change the values we have in the index to access additional features of the pandas library.\n",
    "\n",
    "### Setting and sorting the index\n",
    "Currently, we have a RangeIndex, but we can switch to a DatetimeIndex by specifying a datetime column when calling set_index():"
   ]
  },
  {
   "cell_type": "code",
   "execution_count": null,
   "metadata": {},
   "outputs": [],
   "source": [
    "f1_races.set_index('date', inplace=True)\n",
    "f1_races.head(3)"
   ]
  },
  {
   "cell_type": "code",
   "execution_count": null,
   "metadata": {},
   "outputs": [],
   "source": [
    "f1_races.sort_index(inplace=True, ascending=False)\n",
    "f1_races.head()"
   ]
  },
  {
   "cell_type": "markdown",
   "metadata": {},
   "source": [
    "`f1_races.sort_index(axis=1)` will sort the columns by name. \n",
    "\n",
    "The axis parameter is present throughout the pandas library: axis=0 targets rows and axis=1 targets columns."
   ]
  },
  {
   "cell_type": "code",
   "execution_count": null,
   "metadata": {},
   "outputs": [],
   "source": [
    "f1_races['2022-10-23':'2022-11-20']\n"
   ]
  },
  {
   "cell_type": "code",
   "execution_count": null,
   "metadata": {},
   "outputs": [],
   "source": [
    "# when not specifying a range\n",
    "f1_races.loc['2022-10-30']"
   ]
  },
  {
   "cell_type": "code",
   "execution_count": null,
   "metadata": {},
   "outputs": [],
   "source": [
    "f1_races.sort_index(inplace=True, ascending=True)\n",
    "f1_races.head()"
   ]
  },
  {
   "cell_type": "markdown",
   "metadata": {},
   "source": [
    "### Resetting the index\n"
   ]
  },
  {
   "cell_type": "code",
   "execution_count": null,
   "metadata": {},
   "outputs": [],
   "source": [
    "f1_races.reset_index(inplace=True)\n",
    "f1_races.head()"
   ]
  },
  {
   "cell_type": "markdown",
   "metadata": {},
   "source": [
    "### Reshaping the data\n"
   ]
  },
  {
   "cell_type": "code",
   "execution_count": null,
   "metadata": {},
   "outputs": [],
   "source": [
    "# lowercase all column names so the dataset is easier to work with\n",
    "f1_races = f1_races.rename(columns=lambda x: x.lower())\n",
    "f1_races.head()"
   ]
  },
  {
   "cell_type": "markdown",
   "metadata": {},
   "source": [
    "## Data visualisation"
   ]
  },
  {
   "cell_type": "markdown",
   "metadata": {},
   "source": [
    "## Plotting with pandas\n",
    "\n",
    "To embed SVG-format plots in the notebook, we will also call the %config and %matplotlib `inline` magics:"
   ]
  },
  {
   "cell_type": "code",
   "execution_count": null,
   "metadata": {
    "vscode": {
     "languageId": "xml"
    }
   },
   "outputs": [],
   "source": [
    "%config InlineBackend.figure_formats = ['svg']"
   ]
  },
  {
   "cell_type": "markdown",
   "metadata": {},
   "source": [
    "You can read more about magics [here](https://ipython.readthedocs.io/en/stable/interactive/magics.html)."
   ]
  },
  {
   "cell_type": "code",
   "execution_count": null,
   "metadata": {},
   "outputs": [],
   "source": [
    "# the plot() method will generate line plots for all numeric columns by default\n",
    "f1_races.plot(title='not very helpful', ylabel='year', alpha=1)"
   ]
  },
  {
   "cell_type": "markdown",
   "metadata": {},
   "source": [
    "The `plot()` method returns an Axes object that can be modified further (e.g., to add reference lines, annotations, labels, etc.). Let's walk through an example."
   ]
  },
  {
   "cell_type": "code",
   "execution_count": null,
   "metadata": {},
   "outputs": [],
   "source": [
    "f1_races.head()"
   ]
  },
  {
   "cell_type": "code",
   "execution_count": null,
   "metadata": {},
   "outputs": [],
   "source": [
    "f1_races.tail(104)"
   ]
  },
  {
   "cell_type": "code",
   "execution_count": null,
   "metadata": {},
   "outputs": [],
   "source": [
    "# bar plots would be more useful for this dataset\n",
    "f1_races.set_index('date', inplace=True)\n",
    "plot_data = f1_races['2018-03-25':'2022-11-20']\\\n",
    "    .assign(race_month_order=lambda x: x.index.month)\\\n",
    "    .pivot_table(index='race_month_order', columns='season', values='round', aggfunc='count')\n",
    "\n",
    "f1_races.reset_index(inplace=True)\n",
    "plot_data.head(10)\n",
    "# plot_data.info()\n"
   ]
  },
  {
   "cell_type": "code",
   "execution_count": null,
   "metadata": {},
   "outputs": [],
   "source": [
    "ax = plot_data.plot(\n",
    "    kind='bar', rot=0, xlabel='', ylabel='rounds',\n",
    "    figsize=(8, 1.5), title='f1_races per month'\n",
    ")\n",
    "\n",
    "# customize the legend\n",
    "ax.legend(title='', loc='center', bbox_to_anchor=(-0.2, 0.5), ncol=1)"
   ]
  },
  {
   "cell_type": "markdown",
   "metadata": {},
   "source": [
    "# Let's find out some stuff\n",
    "Using the `f1_results` dataset."
   ]
  },
  {
   "cell_type": "code",
   "execution_count": null,
   "metadata": {},
   "outputs": [],
   "source": [
    "# first, clean up the data in the f1_results dataframe\n",
    "f1_results.dtypes\n",
    "\n",
    "f1_results.loc[:, ['date']] = f1_results.loc[:, ['date']].apply(pd.to_datetime)\n",
    "f1_results.loc[:, ['DATE_of_birth']] = f1_results.loc[:, ['DATE_of_birth']].apply(pd.to_datetime)\n",
    "\n",
    "f1_results.dtypes\n",
    "\n",
    "# lowercase all the columns so that they are easier to use\n",
    "\n",
    "f1_results.columns = f1_results.columns.str.lower()"
   ]
  },
  {
   "cell_type": "code",
   "execution_count": null,
   "metadata": {},
   "outputs": [],
   "source": [
    "# what columns are in this dataset?\n",
    "f1_results.columns\n",
    "f1_results.iloc()"
   ]
  },
  {
   "cell_type": "code",
   "execution_count": null,
   "metadata": {},
   "outputs": [],
   "source": [
    "# how many distinct drivers are in the dataset?\n",
    "res = f1_results.drop_duplicates(subset=[\"driver\"])\n",
    "res.count()"
   ]
  },
  {
   "cell_type": "code",
   "execution_count": null,
   "metadata": {},
   "outputs": [],
   "source": [
    "# which of those drivers are Austrian?\n",
    "res[res[\"nationality\"] == \"Austrian\"][\"driver\"]"
   ]
  },
  {
   "cell_type": "code",
   "execution_count": null,
   "metadata": {},
   "outputs": [],
   "source": [
    "# what are the results from the latest race?\n",
    "res = f1_results[f1_results[\"date\"] == f1_results[\"date\"].max()]\n",
    "print(res)\n",
    "# hint: you may use the date column; convert it to datetime first!"
   ]
  },
  {
   "cell_type": "code",
   "execution_count": null,
   "metadata": {},
   "outputs": [],
   "source": [
    "# who won the race? how many races has this pilot won this year?\n",
    "f1_results.head()\n",
    "\n",
    "# hints:\n",
    "# get the winner by filtering f1_results on 'date' and 'podium';\n",
    "# then use iloc[i][j] to access the first (and only) row (i) of the dataframe and the 'driver' column (j)\n",
    "# winner = f1_results[ ... filters ... ].iloc[i][j]\n",
    "\n",
    "\n",
    "# use this ^ to filter f1_results on season, podium and driver\n",
    "# and then count\n"
   ]
  },
  {
   "cell_type": "code",
   "execution_count": null,
   "metadata": {},
   "outputs": [],
   "source": [
    "# on which circuit did Lewis Hamilton have the most wins?\n",
    "res = f1_results[(f1_results['podium'] == 1) & (f1_results['driver'] == 'hamilton')]['circuit_id'].value_counts().idxmax()\n",
    "print(res)"
   ]
  },
  {
   "cell_type": "markdown",
   "metadata": {},
   "source": [
    "# Formula 1 Driver Career Analysis\n",
    "Let't analyse the career of one of the most succesful F1 drivers of all time.\n",
    "\n",
    "Pick a driver from the list in [this article](https://www.redbull.com/ca-en/best-f1-drivers-of-all-time) and analyse their career below.\n",
    "\n",
    "Or you can pick your favourite driver instead =)"
   ]
  },
  {
   "cell_type": "code",
   "execution_count": 121,
   "metadata": {},
   "outputs": [
    {
     "data": {
      "text/plain": [
       "array(['farina', 'fagioli', 'reg_parnell', 'cabantous', 'rosier',\n",
       "       'gerard', 'harrison', 'etancelin', 'hampshire', 'fry',\n",
       "       'shawe_taylor', 'claes', 'fangio', 'kelly', 'bira', 'murray',\n",
       "       'crossley', 'graffenried', 'chiron', 'martin', 'peter_walker',\n",
       "       'rolt', 'leslie_johnson', 'ascari', 'sommer', 'villoresi',\n",
       "       'gonzalez', 'manzon', 'trintignant', 'rol', 'schell', 'whitehead',\n",
       "       'pian', 'parsons', 'holland', 'rose', 'green', 'bettenhausen',\n",
       "       'chitwood', 'wallard', 'faulkner', 'george_connor', 'paul_russo',\n",
       "       'flaherty', 'fohr', 'darter', 'hellings', 'mcgrath', 'ruttman',\n",
       "       'hartley', 'davies', 'mcdowell', 'walt_brown', 'webb', 'hoyt',\n",
       "       'ader', 'holmes', 'rathmann', 'banks', 'schindler', 'levrett',\n",
       "       'cantrell', 'agabashian', 'bonetto', 'pagani', 'branca', 'levegh',\n",
       "       'chaboud', 'pozzi', 'serafini', 'guy_mairesse', 'taruffi',\n",
       "       'biondetti', 'louveau', 'comotti', 'sanesi', 'pietsch', 'moss',\n",
       "       'fischer', 'abecassis', 'hirt', 'nazaruk', 'ayulo', 'linden',\n",
       "       'ball', 'forberg', 'nalon', 'force', 'hanks', 'scarborough',\n",
       "       'mackey', 'stevenson', 'dinsmore', 'miller', 'ward', 'griffith',\n",
       "       'vukovich', 'andre_pilette', 'gordini', 'simon', 'marimon',\n",
       "       'duncan_hamilton', 'parker', 'john_james', 'swaters', 'landi',\n",
       "       'richardson', 'godia', 'grignard', 'jover', 'behra', 'wharton',\n",
       "       'alan_brown', 'brandon', 'macklin', 'collins', 'hans_stuck',\n",
       "       'ulmen', 'terra', 'cross', 'bryan', 'reece', 'rigsby', 'james',\n",
       "       'fonder', 'johnson', 'sweikert', 'bob_scott', 'hawthorn', 'frere',\n",
       "       'tornaco', 'laurent', 'legat', 'obrien', 'gaze', 'charrington',\n",
       "       'carini', 'poore', 'thompson', 'salvadori', 'downing',\n",
       "       'graham_whitehead', 'mcalpine', 'bianco', 'crook', 'riess',\n",
       "       'niedermayr', 'klenk', 'klodwig', 'heeks', 'brudes', 'balsa',\n",
       "       'bechem', 'cantoni', 'krause', 'schoeller', 'aston', 'helfrich',\n",
       "       'peters', 'flinterman', 'lof', 'bayol', 'crespo', 'galvez',\n",
       "       'john_barber', 'menditeguy', 'birger', 'cruz', 'daywalt', 'mccoy',\n",
       "       'mantz', 'teague', 'thomson', 'mieres', 'wacker', 'georges_berger',\n",
       "       'jimmy_stewart', 'fairman', 'ian_stewart', 'herrmann', 'nuckey',\n",
       "       'seidel', 'barth', 'karch', 'fitzau', 'adolff', 'lang', 'scherrer',\n",
       "       'mantovani', 'musso', 'maglioli', 'fitch', 'loyer', 'daponte',\n",
       "       'freeland', 'crockett', 'niday', 'jackson', 'elisian', 'kling',\n",
       "       'pollet', 'beauman', 'marr', 'thorne', 'gould', 'whitehouse',\n",
       "       'flockhart', 'riseley_prichard', 'bucci', 'riu', 'volonterio',\n",
       "       'iglesias', 'castellotti', 'uria', 'perdisa', 'whiteaway',\n",
       "       'homeier', 'herman', 'connor', 'weyant', 'templeman', 'andrews',\n",
       "       'russo', 'ray_crawford', 'keller', 'ramos', 'sparken',\n",
       "       'jack_brabham', 'lucas', 'piotti', 'gerini', 'gendebien',\n",
       "       'oscar_gonzalez', 'scarlatti', 'brooks', 'dick_rathmann', 'veith',\n",
       "       'christie', 'garrett', 'tolan', 'turner', 'scotti', 'portago',\n",
       "       'chapman', 'titterington', 'halford', 'scott_Brown', 'emery',\n",
       "       'milhoux', 'bonnier', 'leston', 'trips', 'tomaso', 'gregory',\n",
       "       'lewis-evans', 'bueb', 'boyd', 'edmunds', 'sachs', 'magill',\n",
       "       'cheesbourg', 'macdowel', 'mackay-fraser', 'naylor', 'beaufort',\n",
       "       'marsh', 'england', 'gibson', 'allison', 'hill', 'kavanagh',\n",
       "       'kessler', 'filippis', 'testut', 'cabianca', 'ecclestone',\n",
       "       'taramazzo', 'george_amick', 'larson', 'dempsey_wilson', 'foyt',\n",
       "       'goldsmith', 'phil_hill', 'shelby', 'burgess', 'stacey', 'mclaren',\n",
       "       'goethals', 'la_caze', 'guelfi', 'picard', 'bridger', 'Changy',\n",
       "       'bianchi', 'lovely', 'lucienbonnet', 'arnold', 'mcwithey',\n",
       "       'branson', 'grim', 'ireland', 'orey', 'gurney', 'davis', 'fontes',\n",
       "       'bristow', 'henry_taylor', 'ashdown', 'piper', 'mike_taylor',\n",
       "       'greene', 'bill_moss', 'parkes', 'dennis_taylor', 'trevor_taylor',\n",
       "       'parnell', 'cabral', 'blanchard', 'constantine', 'said', 'cade',\n",
       "       'larreta', 'bonomi', 'munaron', 'estefano', 'chimeri', 'creus',\n",
       "       'ginther', 'surtees', 'daigh', 'reventlow', 'ruby', 'tingelstad',\n",
       "       'amick', 'hurtubise', 'weiler', 'sutton', 'clark', 'mairesse',\n",
       "       'drogo', 'gamble', 'thiele', 'vic_wilson', 'owen', 'hall', 'drake',\n",
       "       'may', 'lewis', 'bandini', 'baghetti', 'collomb', 'bordeu',\n",
       "       'maggs', 'ashmore', 'monteverdi', 'pirocchi', 'starrabba',\n",
       "       'ricardo_rodriguez', 'vaccarella', 'bussinello', 'penske', 'ryan',\n",
       "       'sharp', 'hansgen', 'ken_miles', 'pon', 'slotemaker', 'siffert',\n",
       "       'campbell-jones', 'schiller', 'arundell', 'abate', 'settember',\n",
       "       'chamberlain', 'shelly', 'walter', 'seiffert', 'prinoth', 'lippi',\n",
       "       'schroeder', 'mayer', 'lederle', 'love', 'johnstone', 'pieterse',\n",
       "       'serrurier', 'harris', 'hocking', 'vyver', 'tingle', 'amon',\n",
       "       'scarfiotti', 'mitter', 'hailwood', 'anderson', 'raby', 'kuhnke',\n",
       "       'spence', 'ernesto_brambilla', 'broeker', 'rodriguez', 'vos',\n",
       "       'solana', 'dochnal', 'monarch', 'blokdyk', 'niemann', 'klerk',\n",
       "       'prophet', 'driver', 'revson', 'taylor', 'gardner', 'attwood',\n",
       "       'bucknum', 'rindt', 'geki', 'stewart', 'hawkins', 'puzey',\n",
       "       'pretorius', 'charlton', 'reed', 'clapham', 'hulme', 'rhodes',\n",
       "       'rollinson', 'gubby', 'bassi', 'bondurant', 'ligier', 'irwin',\n",
       "       'lawrence', 'botha', 'courage', 'gavin', 'beltoise', 'hobbs',\n",
       "       'rees', 'moser', 'oliver', 'ickx', 'hart', 'hahne', 'ahrens',\n",
       "       'jo_schlesser', 'fisher', 'wietzes', 'pease', 'tom_jones',\n",
       "       'williams', 'rooyen', 'adamich', 'redman', 'elford', 'widdows',\n",
       "       'bell', 'pescarolo', 'brack', 'unser', 'mario_andretti', 'miles',\n",
       "       'cordts', 'eaton', 'stommelen', 'roig', 'peterson', 'giunti',\n",
       "       'regazzoni', 'cevert', 'gethin', 'emerson_fittipaldi', 'schenken',\n",
       "       'galli', 'wisell', 'hutchison', 'westbury', 'ganley', 'barber',\n",
       "       'lennep', 'walker', 'mazet', 'jean', 'beuttler', 'marko', 'lauda',\n",
       "       'jarier', 'donohue', 'craft', 'Cannoc', 'posey', 'reutemann',\n",
       "       'pace', 'wilson_fittipaldi', 'depailler', 'merzario', 'migault',\n",
       "       'scheckter', 'bueno', 'follmer', 'keizan', 'hunt', 'purley',\n",
       "       'opel', 'watson', 'mass', 'williamson', 'mcrae', 'edwards',\n",
       "       'robarts', 'stuck', 'brambilla', 'ian_scheckter', 'belso',\n",
       "       'schuppan', 'pilette', 'pryce', 'larrousse', 'kinnunen', 'roos',\n",
       "       'jabouille', 'dolhem', 'lombardi', 'ashley', 'laffite', 'perkins',\n",
       "       'quester', 'wilds', 'facetti', 'koinigg', 'tunmer', 'evans',\n",
       "       'brise', 'wunderink', 'jones', 'palm', 'magee', 'fushida',\n",
       "       'henton', 'nicholson', 'morgan', 'crawford', 'ertl', 'trimmer',\n",
       "       'lunger', 'vonlanthen', 'zorzi', 'leclere', 'hoffmann', 'nilsson',\n",
       "       'kessel', 'zapico', 'villota', 'neve', 'nelleman', 'galica',\n",
       "       'pesenti_rossi', 'binder', 'hayje', 'andersson', 'stuppacher',\n",
       "       'ribeiro', 'brown', 'takahara', 'hasemi', 'hoshino', 'keegan',\n",
       "       'patrese', 'dryver', 'rebaque', 'tambay', 'gilles_villeneuve',\n",
       "       'heyer', 'giacomelli', 'leoni', 'ongais', 'takahashi', 'pironi',\n",
       "       'cheever', 'keke_rosberg', 'arnoux', 'daly', 'colombo', 'lees',\n",
       "       'piquet', 'bleekemolen', 'gimax', 'rahal', 'gabbiani', 'angelis',\n",
       "       'lammers', 'brancatelli', 'gaillard', 'surer', 'zunino', 'prost',\n",
       "       'kennedy', 'johansson', 'south', 'needell', 'desire_wilson',\n",
       "       'mansell', 'thackwell', 'manfred_winkelhock', 'cesaris', 'cogan',\n",
       "       'serra', 'guerra', 'stohr', 'salazar', 'londono', 'borgudd',\n",
       "       'alboreto', 'warwick', 'ghinzani', 'francia', 'villeneuve_sr',\n",
       "       'boesel', 'baldi', 'paletti', 'guerrero', 'fabi', 'moreno',\n",
       "       'byrne', 'sullivan', 'cecotto', 'corrado_fabi', 'schlesser',\n",
       "       'boutsen', 'acheson', 'palmer', 'brundle', 'hesnault', 'alliot',\n",
       "       'bellof', 'senna', 'gartner', 'rothengatter', 'berger', 'martini',\n",
       "       'streiff', 'danner', 'capelli', 'dumfries', 'nannini', 'berg',\n",
       "       'caffi', 'satoru_nakajima', 'fabre', 'campos', 'tarquini',\n",
       "       'forini', 'larini', 'dalmas', 'modena', 'sala', 'gugelmin',\n",
       "       'larrauri', 'bailey', 'schneider', 'suzuki', 'raphanel', 'herbert',\n",
       "       'grouillard', 'foitek', 'alesi', 'pirro', 'bernard', 'donnelly',\n",
       "       'gachot', 'weidler', 'lehto', 'barilla', 'morbidelli', 'brabham',\n",
       "       'hakkinen', 'blundell', 'comas', 'poele', 'barbazza', 'bartels',\n",
       "       'michael_schumacher', 'zanardi', 'wendlinger', 'katayama',\n",
       "       'fittipaldi', 'belmondo', 'chiesa', 'amati', 'damon_hill',\n",
       "       'naspetti', 'mccarthy', 'barrichello', 'badoer', 'andretti',\n",
       "       'lamy', 'apicella', 'irvine', 'toshio_suzuki', 'gounon', 'panis',\n",
       "       'verstappen', 'frentzen', 'beretta', 'ratzenberger', 'coulthard',\n",
       "       'montermini', 'adams', 'schiattarella', 'noda', 'salo', 'lagorce',\n",
       "       'inoue', 'deletraz', 'diniz', 'boullion', 'papis', 'lavaggi',\n",
       "       'magnussen', 'villeneuve', 'rosset', 'fisichella', 'marques',\n",
       "       'nakano', 'trulli', 'ralf_schumacher', 'sospiri', 'wurz',\n",
       "       'fontana', 'tuero', 'takagi', 'rosa', 'zonta', 'gene', 'sarrazin',\n",
       "       'heidfeld', 'button', 'mazzacane', 'burti', 'raikkonen', 'alonso',\n",
       "       'montoya', 'bernoldi', 'enge', 'yoong', 'webber', 'sato', 'massa',\n",
       "       'mcnish', 'davidson', 'pizzonia', 'wilson', 'matta', 'firman',\n",
       "       'kiesa', 'baumgartner', 'klien', 'pantano', 'bruni', 'glock',\n",
       "       'karthikeyan', 'monteiro', 'friesacher', 'albers', 'liuzzi',\n",
       "       'doornbos', 'rosberg', 'speed', 'ide', 'montagny', 'yamamoto',\n",
       "       'kubica', 'hamilton', 'kovalainen', 'sutil', 'vettel',\n",
       "       'markus_winkelhock', 'nakajima', 'bourdais', 'piquet_jr', 'buemi',\n",
       "       'alguersuari', 'grosjean', 'kobayashi', 'hulkenberg',\n",
       "       'bruno_senna', 'petrov', 'grassi', 'chandhok', 'resta', 'ambrosio',\n",
       "       'maldonado', 'perez', 'ricciardo', 'vergne', 'pic', 'gutierrez',\n",
       "       'bottas', 'jules_bianchi', 'chilton', 'garde', 'kevin_magnussen',\n",
       "       'kvyat', 'ericsson', 'lotterer', 'stevens', 'nasr', 'sainz',\n",
       "       'max_verstappen', 'merhi', 'rossi', 'jolyon_palmer', 'wehrlein',\n",
       "       'haryanto', 'vandoorne', 'ocon', 'giovinazzi', 'stroll', 'gasly',\n",
       "       'brendon_hartley', 'leclerc', 'sirotkin', 'norris', 'albon',\n",
       "       'russell', 'latifi', 'aitken', 'pietro_fittipaldi', 'tsunoda',\n",
       "       'mick_schumacher', 'mazepin', 'zhou'], dtype=object)"
      ]
     },
     "execution_count": 121,
     "metadata": {},
     "output_type": "execute_result"
    }
   ],
   "source": [
    "# look for your driver's id in the list\n",
    "f1_results['driver'].unique()"
   ]
  },
  {
   "cell_type": "code",
   "execution_count": 139,
   "metadata": {},
   "outputs": [
    {
     "name": "stdout",
     "output_type": "stream",
     "text": [
      "leclerc's nationality is Monegasque\n"
     ]
    }
   ],
   "source": [
    "# which driver have you chosen?\n",
    "driver = 'leclerc'\n",
    "\n",
    "# what nationality is this driver?\n",
    "nationality = f1_results[f1_results['driver'] == driver]['nationality'].unique()\n",
    "print(f\"{driver}'s nationality is {nationality[0]}\")\n"
   ]
  },
  {
   "cell_type": "code",
   "execution_count": null,
   "metadata": {},
   "outputs": [],
   "source": [
    "# when was his first race and for which constructor?\n",
    "races = f1_results[f1_results[\"driver\"] == driver].sort_values([\"date\"], ascending=[True])[[\"circuit_id\", \"date\", \"constructor\"]]\n",
    "first_race_date = races.iloc[0][1]\n",
    "first_race_constructor = races.iloc[0][2]\n",
    "print(f\"{driver}'s first race was on {first_race_date} with {first_race_constructor}\")"
   ]
  },
  {
   "cell_type": "code",
   "execution_count": null,
   "metadata": {},
   "outputs": [],
   "source": [
    "# when was his first podium + with which constructor?\n",
    "# keep in mind the driver may have been on the podium 0 times\n",
    "podiums = f1_results[(f1_results[\"driver\"] == driver) & ((f1_results[\"podium\"] == 1) | (f1_results[\"podium\"] == 2) | (f1_results[\"podium\"] == 3))].sort_values([\"date\"], ascending=[True])[[\"podium\", \"constructor\", \"date\"]]\n",
    "first_podium_date = podiums.iloc[0][\"date\"] if podiums.empty is False else \"<no podiums yet>\"\n",
    "first_podium_constructor = podiums.iloc[0][\"constructor\"] if podiums.empty is False else \"<no podiums yet>\"\n",
    "print(f\"{driver}'s first podium was on {first_podium_date} with {first_podium_constructor}\")"
   ]
  },
  {
   "cell_type": "code",
   "execution_count": 152,
   "metadata": {},
   "outputs": [
    {
     "name": "stdout",
     "output_type": "stream",
     "text": [
      "leclerc's first win was on 2019-09-01 00:00:00 with ferrari at spa\n"
     ]
    }
   ],
   "source": [
    "# what about his first win + with which constructor + which circuit?\n",
    "# keep in mind the driver may have won 0 races\n",
    "won_races = f1_results[(f1_results[\"driver\"] == driver) & (f1_results[\"podium\"] == 1)].sort_values([\"date\"], ascending=[True])[[\"podium\", \"constructor\", \"circuit_id\", \"date\"]]\n",
    "first_win = won_races.iloc[0] if won_races.empty is False else \"<no wins yet>\"\n",
    "first_win_date = won_races.iloc[0][\"date\"] if won_races.empty is False else \"<no wins yet>\"\n",
    "first_win_constructor = won_races.iloc[0][\"constructor\"] if won_races.empty is False else \"<no wins yet>\"\n",
    "first_win_circuit = won_races.iloc[0][\"circuit_id\"] if won_races.empty is False else \"<no wins yet>\"\n",
    "\n",
    "print(f\"{driver}'s first win was on {first_win_date} with {first_win_constructor} at {first_win_circuit}\")"
   ]
  },
  {
   "cell_type": "code",
   "execution_count": null,
   "metadata": {},
   "outputs": [],
   "source": [
    "# how many race starts?\n",
    "# hint: check the Status is NOT one of Did not qualify, Did not prequalify, Not classified\n",
    "race_starts = f1_results[(f1_results[\"driver\"] == driver) & (~f1_results[\"status\"].isin([\"Did not qualify\", \"Did not prequalify\", \"Not classified\"]))].value_counts().sum()\n",
    "print(f\"{driver} has {race_starts} race starts\")"
   ]
  },
  {
   "cell_type": "code",
   "execution_count": null,
   "metadata": {},
   "outputs": [],
   "source": [
    "# how many of those races did he actually finished?\n",
    "# hint: look for Status Finished; for this exercise, we'll not consider other statuses as successful\n",
    "races_finished = f1_results[(f1_results[\"driver\"] == driver) & (f1_results[\"status\"] == \"Finished\")].value_counts().sum()\n",
    "print(f\"{driver} has finished {races_finished} races\")"
   ]
  },
  {
   "cell_type": "code",
   "execution_count": null,
   "metadata": {},
   "outputs": [],
   "source": [
    "# how many has he won?\n",
    "races_won = f1_results[(f1_results[\"driver\"] == driver) & (f1_results[\"podium\"] == 1)].value_counts().sum()\n",
    "print(f\"{driver} has won {races_won} races\")"
   ]
  },
  {
   "cell_type": "code",
   "execution_count": 178,
   "metadata": {},
   "outputs": [
    {
     "data": {
      "text/html": [
       "<div>\n",
       "<style scoped>\n",
       "    .dataframe tbody tr th:only-of-type {\n",
       "        vertical-align: middle;\n",
       "    }\n",
       "\n",
       "    .dataframe tbody tr th {\n",
       "        vertical-align: top;\n",
       "    }\n",
       "\n",
       "    .dataframe thead th {\n",
       "        text-align: right;\n",
       "    }\n",
       "</style>\n",
       "<table border=\"1\" class=\"dataframe\">\n",
       "  <thead>\n",
       "    <tr style=\"text-align: right;\">\n",
       "      <th></th>\n",
       "      <th>driver</th>\n",
       "      <th>nationality</th>\n",
       "      <th>season</th>\n",
       "      <th>circuit_id</th>\n",
       "      <th>race_started</th>\n",
       "      <th>race_finished</th>\n",
       "      <th>race_won</th>\n",
       "      <th>constructor</th>\n",
       "    </tr>\n",
       "  </thead>\n",
       "  <tbody>\n",
       "    <tr>\n",
       "      <th>23339</th>\n",
       "      <td>leclerc</td>\n",
       "      <td>Monegasque</td>\n",
       "      <td>2018</td>\n",
       "      <td>albert_park</td>\n",
       "      <td>True</td>\n",
       "      <td>True</td>\n",
       "      <td>False</td>\n",
       "      <td>sauber</td>\n",
       "    </tr>\n",
       "    <tr>\n",
       "      <th>23358</th>\n",
       "      <td>leclerc</td>\n",
       "      <td>Monegasque</td>\n",
       "      <td>2018</td>\n",
       "      <td>bahrain</td>\n",
       "      <td>True</td>\n",
       "      <td>False</td>\n",
       "      <td>False</td>\n",
       "      <td>sauber</td>\n",
       "    </tr>\n",
       "    <tr>\n",
       "      <th>23385</th>\n",
       "      <td>leclerc</td>\n",
       "      <td>Monegasque</td>\n",
       "      <td>2018</td>\n",
       "      <td>shanghai</td>\n",
       "      <td>True</td>\n",
       "      <td>True</td>\n",
       "      <td>False</td>\n",
       "      <td>sauber</td>\n",
       "    </tr>\n",
       "    <tr>\n",
       "      <th>23392</th>\n",
       "      <td>leclerc</td>\n",
       "      <td>Monegasque</td>\n",
       "      <td>2018</td>\n",
       "      <td>baku</td>\n",
       "      <td>True</td>\n",
       "      <td>True</td>\n",
       "      <td>False</td>\n",
       "      <td>sauber</td>\n",
       "    </tr>\n",
       "    <tr>\n",
       "      <th>23416</th>\n",
       "      <td>leclerc</td>\n",
       "      <td>Monegasque</td>\n",
       "      <td>2018</td>\n",
       "      <td>catalunya</td>\n",
       "      <td>True</td>\n",
       "      <td>False</td>\n",
       "      <td>False</td>\n",
       "      <td>sauber</td>\n",
       "    </tr>\n",
       "  </tbody>\n",
       "</table>\n",
       "</div>"
      ],
      "text/plain": [
       "        driver nationality  season   circuit_id  race_started  race_finished  \\\n",
       "23339  leclerc  Monegasque    2018  albert_park          True           True   \n",
       "23358  leclerc  Monegasque    2018      bahrain          True          False   \n",
       "23385  leclerc  Monegasque    2018     shanghai          True           True   \n",
       "23392  leclerc  Monegasque    2018         baku          True           True   \n",
       "23416  leclerc  Monegasque    2018    catalunya          True          False   \n",
       "\n",
       "       race_won constructor  \n",
       "23339     False      sauber  \n",
       "23358     False      sauber  \n",
       "23385     False      sauber  \n",
       "23392     False      sauber  \n",
       "23416     False      sauber  "
      ]
     },
     "execution_count": 178,
     "metadata": {},
     "output_type": "execute_result"
    }
   ],
   "source": [
    "# create a dataframe that contains the follwing information:\n",
    "#\n",
    "# driver\n",
    "# nationality\n",
    "# season\n",
    "# circuit_id\n",
    "# race_started (Boolean)\n",
    "# race_finished (Boolean)\n",
    "# race_won (Boolean)\n",
    "# constructor\n",
    "\n",
    "f1_results.head(100)\n",
    "f1_career = {'driver': f1_results[f1_results[\"driver\"] == driver][\"driver\"],\n",
    "             'nationality': f1_results[f1_results[\"driver\"] == driver][\"nationality\"],\n",
    "             'season': f1_results[f1_results[\"driver\"] == driver][\"season\"],\n",
    "             'circuit_id': f1_results[f1_results[\"driver\"] == driver][\"circuit_id\"],\n",
    "             'race_started': [status not in [\"Did not qualify\", \"Did not prequalify\", \"Not classified\"] for status in list(f1_results[f1_results[\"driver\"] == driver][\"status\"])],\n",
    "             'race_finished': [status == \"Finished\" for status in list(f1_results[f1_results[\"driver\"] == driver][\"status\"])],\n",
    "             'race_won': [podium == 1 for podium in list(f1_results[f1_results[\"driver\"] == driver][\"podium\"])],\n",
    "             'constructor': f1_results[f1_results[\"driver\"] == driver][\"constructor\"]\n",
    "            }\n",
    "\n",
    "f1_career = pd.DataFrame(f1_career)\n",
    "f1_career.head()"
   ]
  },
  {
   "cell_type": "markdown",
   "metadata": {},
   "source": [
    "## Plotting the results"
   ]
  },
  {
   "cell_type": "code",
   "execution_count": 179,
   "metadata": {},
   "outputs": [],
   "source": [
    "# plot the race results per season\n",
    "\n",
    "# prep the data\n",
    "f1_career['race_started'] = f1_career['race_started'].astype(int)\n",
    "f1_career['race_finished'] = f1_career['race_finished'].astype(int)\n",
    "f1_career['race_won'] = f1_career['race_won'].astype(int)\n",
    "\n",
    "plot_data_wins = f1_career.pivot_table(index=\"season\", columns=\"driver\", values=\"race_won\", aggfunc=\"sum\")\n",
    "plot_data_start = f1_career.pivot_table(index=\"season\", columns=\"driver\", values=\"race_started\", aggfunc=\"sum\")"
   ]
  },
  {
   "cell_type": "code",
   "execution_count": 180,
   "metadata": {},
   "outputs": [
    {
     "data": {
      "text/plain": [
       "<AxesSubplot:title={'center':\"leclerc's F1 Wins\"}, xlabel='season', ylabel='races'>"
      ]
     },
     "execution_count": 180,
     "metadata": {},
     "output_type": "execute_result"
    },
    {
     "data": {
      "image/svg+xml": "<?xml version=\"1.0\" encoding=\"utf-8\" standalone=\"no\"?>\n<!DOCTYPE svg PUBLIC \"-//W3C//DTD SVG 1.1//EN\"\n  \"http://www.w3.org/Graphics/SVG/1.1/DTD/svg11.dtd\">\n<svg xmlns:xlink=\"http://www.w3.org/1999/xlink\" width=\"388.058381pt\" height=\"277.314375pt\" viewBox=\"0 0 388.058381 277.314375\" xmlns=\"http://www.w3.org/2000/svg\" version=\"1.1\">\n <metadata>\n  <rdf:RDF xmlns:dc=\"http://purl.org/dc/elements/1.1/\" xmlns:cc=\"http://creativecommons.org/ns#\" xmlns:rdf=\"http://www.w3.org/1999/02/22-rdf-syntax-ns#\">\n   <cc:Work>\n    <dc:type rdf:resource=\"http://purl.org/dc/dcmitype/StillImage\"/>\n    <dc:date>2022-08-03T21:05:40.513857</dc:date>\n    <dc:format>image/svg+xml</dc:format>\n    <dc:creator>\n     <cc:Agent>\n      <dc:title>Matplotlib v3.5.2, https://matplotlib.org/</dc:title>\n     </cc:Agent>\n    </dc:creator>\n   </cc:Work>\n  </rdf:RDF>\n </metadata>\n <defs>\n  <style type=\"text/css\">*{stroke-linejoin: round; stroke-linecap: butt}</style>\n </defs>\n <g id=\"figure_1\">\n  <g id=\"patch_1\">\n   <path d=\"M 0 277.314375 \nL 388.058381 277.314375 \nL 388.058381 0 \nL 0 0 \nL 0 277.314375 \nz\n\" style=\"fill: none\"/>\n  </g>\n  <g id=\"axes_1\">\n   <g id=\"patch_2\">\n    <path d=\"M 43.78125 239.758125 \nL 378.58125 239.758125 \nL 378.58125 22.318125 \nL 43.78125 22.318125 \nz\n\" style=\"fill: #ffffff\"/>\n   </g>\n   <g id=\"matplotlib.axis_1\">\n    <g id=\"xtick_1\">\n     <g id=\"line2d_1\">\n      <defs>\n       <path id=\"mb9907d956a\" d=\"M 0 0 \nL 0 3.5 \n\" style=\"stroke: #000000; stroke-width: 0.8\"/>\n      </defs>\n      <g>\n       <use xlink:href=\"#mb9907d956a\" x=\"58.999432\" y=\"239.758125\" style=\"stroke: #000000; stroke-width: 0.8\"/>\n      </g>\n     </g>\n     <g id=\"text_1\">\n      <!-- 2018.0 -->\n      <g transform=\"translate(41.504119 254.356562)scale(0.1 -0.1)\">\n       <defs>\n        <path id=\"DejaVuSans-32\" d=\"M 1228 531 \nL 3431 531 \nL 3431 0 \nL 469 0 \nL 469 531 \nQ 828 903 1448 1529 \nQ 2069 2156 2228 2338 \nQ 2531 2678 2651 2914 \nQ 2772 3150 2772 3378 \nQ 2772 3750 2511 3984 \nQ 2250 4219 1831 4219 \nQ 1534 4219 1204 4116 \nQ 875 4013 500 3803 \nL 500 4441 \nQ 881 4594 1212 4672 \nQ 1544 4750 1819 4750 \nQ 2544 4750 2975 4387 \nQ 3406 4025 3406 3419 \nQ 3406 3131 3298 2873 \nQ 3191 2616 2906 2266 \nQ 2828 2175 2409 1742 \nQ 1991 1309 1228 531 \nz\n\" transform=\"scale(0.015625)\"/>\n        <path id=\"DejaVuSans-30\" d=\"M 2034 4250 \nQ 1547 4250 1301 3770 \nQ 1056 3291 1056 2328 \nQ 1056 1369 1301 889 \nQ 1547 409 2034 409 \nQ 2525 409 2770 889 \nQ 3016 1369 3016 2328 \nQ 3016 3291 2770 3770 \nQ 2525 4250 2034 4250 \nz\nM 2034 4750 \nQ 2819 4750 3233 4129 \nQ 3647 3509 3647 2328 \nQ 3647 1150 3233 529 \nQ 2819 -91 2034 -91 \nQ 1250 -91 836 529 \nQ 422 1150 422 2328 \nQ 422 3509 836 4129 \nQ 1250 4750 2034 4750 \nz\n\" transform=\"scale(0.015625)\"/>\n        <path id=\"DejaVuSans-31\" d=\"M 794 531 \nL 1825 531 \nL 1825 4091 \nL 703 3866 \nL 703 4441 \nL 1819 4666 \nL 2450 4666 \nL 2450 531 \nL 3481 531 \nL 3481 0 \nL 794 0 \nL 794 531 \nz\n\" transform=\"scale(0.015625)\"/>\n        <path id=\"DejaVuSans-38\" d=\"M 2034 2216 \nQ 1584 2216 1326 1975 \nQ 1069 1734 1069 1313 \nQ 1069 891 1326 650 \nQ 1584 409 2034 409 \nQ 2484 409 2743 651 \nQ 3003 894 3003 1313 \nQ 3003 1734 2745 1975 \nQ 2488 2216 2034 2216 \nz\nM 1403 2484 \nQ 997 2584 770 2862 \nQ 544 3141 544 3541 \nQ 544 4100 942 4425 \nQ 1341 4750 2034 4750 \nQ 2731 4750 3128 4425 \nQ 3525 4100 3525 3541 \nQ 3525 3141 3298 2862 \nQ 3072 2584 2669 2484 \nQ 3125 2378 3379 2068 \nQ 3634 1759 3634 1313 \nQ 3634 634 3220 271 \nQ 2806 -91 2034 -91 \nQ 1263 -91 848 271 \nQ 434 634 434 1313 \nQ 434 1759 690 2068 \nQ 947 2378 1403 2484 \nz\nM 1172 3481 \nQ 1172 3119 1398 2916 \nQ 1625 2713 2034 2713 \nQ 2441 2713 2670 2916 \nQ 2900 3119 2900 3481 \nQ 2900 3844 2670 4047 \nQ 2441 4250 2034 4250 \nQ 1625 4250 1398 4047 \nQ 1172 3844 1172 3481 \nz\n\" transform=\"scale(0.015625)\"/>\n        <path id=\"DejaVuSans-2e\" d=\"M 684 794 \nL 1344 794 \nL 1344 0 \nL 684 0 \nL 684 794 \nz\n\" transform=\"scale(0.015625)\"/>\n       </defs>\n       <use xlink:href=\"#DejaVuSans-32\"/>\n       <use xlink:href=\"#DejaVuSans-30\" x=\"63.623047\"/>\n       <use xlink:href=\"#DejaVuSans-31\" x=\"127.246094\"/>\n       <use xlink:href=\"#DejaVuSans-38\" x=\"190.869141\"/>\n       <use xlink:href=\"#DejaVuSans-2e\" x=\"254.492188\"/>\n       <use xlink:href=\"#DejaVuSans-30\" x=\"286.279297\"/>\n      </g>\n     </g>\n    </g>\n    <g id=\"xtick_2\">\n     <g id=\"line2d_2\">\n      <g>\n       <use xlink:href=\"#mb9907d956a\" x=\"97.044886\" y=\"239.758125\" style=\"stroke: #000000; stroke-width: 0.8\"/>\n      </g>\n     </g>\n     <g id=\"text_2\">\n      <!-- 2018.5 -->\n      <g transform=\"translate(79.549574 254.356562)scale(0.1 -0.1)\">\n       <defs>\n        <path id=\"DejaVuSans-35\" d=\"M 691 4666 \nL 3169 4666 \nL 3169 4134 \nL 1269 4134 \nL 1269 2991 \nQ 1406 3038 1543 3061 \nQ 1681 3084 1819 3084 \nQ 2600 3084 3056 2656 \nQ 3513 2228 3513 1497 \nQ 3513 744 3044 326 \nQ 2575 -91 1722 -91 \nQ 1428 -91 1123 -41 \nQ 819 9 494 109 \nL 494 744 \nQ 775 591 1075 516 \nQ 1375 441 1709 441 \nQ 2250 441 2565 725 \nQ 2881 1009 2881 1497 \nQ 2881 1984 2565 2268 \nQ 2250 2553 1709 2553 \nQ 1456 2553 1204 2497 \nQ 953 2441 691 2322 \nL 691 4666 \nz\n\" transform=\"scale(0.015625)\"/>\n       </defs>\n       <use xlink:href=\"#DejaVuSans-32\"/>\n       <use xlink:href=\"#DejaVuSans-30\" x=\"63.623047\"/>\n       <use xlink:href=\"#DejaVuSans-31\" x=\"127.246094\"/>\n       <use xlink:href=\"#DejaVuSans-38\" x=\"190.869141\"/>\n       <use xlink:href=\"#DejaVuSans-2e\" x=\"254.492188\"/>\n       <use xlink:href=\"#DejaVuSans-35\" x=\"286.279297\"/>\n      </g>\n     </g>\n    </g>\n    <g id=\"xtick_3\">\n     <g id=\"line2d_3\">\n      <g>\n       <use xlink:href=\"#mb9907d956a\" x=\"135.090341\" y=\"239.758125\" style=\"stroke: #000000; stroke-width: 0.8\"/>\n      </g>\n     </g>\n     <g id=\"text_3\">\n      <!-- 2019.0 -->\n      <g transform=\"translate(117.595028 254.356562)scale(0.1 -0.1)\">\n       <defs>\n        <path id=\"DejaVuSans-39\" d=\"M 703 97 \nL 703 672 \nQ 941 559 1184 500 \nQ 1428 441 1663 441 \nQ 2288 441 2617 861 \nQ 2947 1281 2994 2138 \nQ 2813 1869 2534 1725 \nQ 2256 1581 1919 1581 \nQ 1219 1581 811 2004 \nQ 403 2428 403 3163 \nQ 403 3881 828 4315 \nQ 1253 4750 1959 4750 \nQ 2769 4750 3195 4129 \nQ 3622 3509 3622 2328 \nQ 3622 1225 3098 567 \nQ 2575 -91 1691 -91 \nQ 1453 -91 1209 -44 \nQ 966 3 703 97 \nz\nM 1959 2075 \nQ 2384 2075 2632 2365 \nQ 2881 2656 2881 3163 \nQ 2881 3666 2632 3958 \nQ 2384 4250 1959 4250 \nQ 1534 4250 1286 3958 \nQ 1038 3666 1038 3163 \nQ 1038 2656 1286 2365 \nQ 1534 2075 1959 2075 \nz\n\" transform=\"scale(0.015625)\"/>\n       </defs>\n       <use xlink:href=\"#DejaVuSans-32\"/>\n       <use xlink:href=\"#DejaVuSans-30\" x=\"63.623047\"/>\n       <use xlink:href=\"#DejaVuSans-31\" x=\"127.246094\"/>\n       <use xlink:href=\"#DejaVuSans-39\" x=\"190.869141\"/>\n       <use xlink:href=\"#DejaVuSans-2e\" x=\"254.492188\"/>\n       <use xlink:href=\"#DejaVuSans-30\" x=\"286.279297\"/>\n      </g>\n     </g>\n    </g>\n    <g id=\"xtick_4\">\n     <g id=\"line2d_4\">\n      <g>\n       <use xlink:href=\"#mb9907d956a\" x=\"173.135795\" y=\"239.758125\" style=\"stroke: #000000; stroke-width: 0.8\"/>\n      </g>\n     </g>\n     <g id=\"text_4\">\n      <!-- 2019.5 -->\n      <g transform=\"translate(155.640483 254.356562)scale(0.1 -0.1)\">\n       <use xlink:href=\"#DejaVuSans-32\"/>\n       <use xlink:href=\"#DejaVuSans-30\" x=\"63.623047\"/>\n       <use xlink:href=\"#DejaVuSans-31\" x=\"127.246094\"/>\n       <use xlink:href=\"#DejaVuSans-39\" x=\"190.869141\"/>\n       <use xlink:href=\"#DejaVuSans-2e\" x=\"254.492188\"/>\n       <use xlink:href=\"#DejaVuSans-35\" x=\"286.279297\"/>\n      </g>\n     </g>\n    </g>\n    <g id=\"xtick_5\">\n     <g id=\"line2d_5\">\n      <g>\n       <use xlink:href=\"#mb9907d956a\" x=\"211.18125\" y=\"239.758125\" style=\"stroke: #000000; stroke-width: 0.8\"/>\n      </g>\n     </g>\n     <g id=\"text_5\">\n      <!-- 2020.0 -->\n      <g transform=\"translate(193.685937 254.356562)scale(0.1 -0.1)\">\n       <use xlink:href=\"#DejaVuSans-32\"/>\n       <use xlink:href=\"#DejaVuSans-30\" x=\"63.623047\"/>\n       <use xlink:href=\"#DejaVuSans-32\" x=\"127.246094\"/>\n       <use xlink:href=\"#DejaVuSans-30\" x=\"190.869141\"/>\n       <use xlink:href=\"#DejaVuSans-2e\" x=\"254.492188\"/>\n       <use xlink:href=\"#DejaVuSans-30\" x=\"286.279297\"/>\n      </g>\n     </g>\n    </g>\n    <g id=\"xtick_6\">\n     <g id=\"line2d_6\">\n      <g>\n       <use xlink:href=\"#mb9907d956a\" x=\"249.226705\" y=\"239.758125\" style=\"stroke: #000000; stroke-width: 0.8\"/>\n      </g>\n     </g>\n     <g id=\"text_6\">\n      <!-- 2020.5 -->\n      <g transform=\"translate(231.731392 254.356562)scale(0.1 -0.1)\">\n       <use xlink:href=\"#DejaVuSans-32\"/>\n       <use xlink:href=\"#DejaVuSans-30\" x=\"63.623047\"/>\n       <use xlink:href=\"#DejaVuSans-32\" x=\"127.246094\"/>\n       <use xlink:href=\"#DejaVuSans-30\" x=\"190.869141\"/>\n       <use xlink:href=\"#DejaVuSans-2e\" x=\"254.492188\"/>\n       <use xlink:href=\"#DejaVuSans-35\" x=\"286.279297\"/>\n      </g>\n     </g>\n    </g>\n    <g id=\"xtick_7\">\n     <g id=\"line2d_7\">\n      <g>\n       <use xlink:href=\"#mb9907d956a\" x=\"287.272159\" y=\"239.758125\" style=\"stroke: #000000; stroke-width: 0.8\"/>\n      </g>\n     </g>\n     <g id=\"text_7\">\n      <!-- 2021.0 -->\n      <g transform=\"translate(269.776847 254.356562)scale(0.1 -0.1)\">\n       <use xlink:href=\"#DejaVuSans-32\"/>\n       <use xlink:href=\"#DejaVuSans-30\" x=\"63.623047\"/>\n       <use xlink:href=\"#DejaVuSans-32\" x=\"127.246094\"/>\n       <use xlink:href=\"#DejaVuSans-31\" x=\"190.869141\"/>\n       <use xlink:href=\"#DejaVuSans-2e\" x=\"254.492188\"/>\n       <use xlink:href=\"#DejaVuSans-30\" x=\"286.279297\"/>\n      </g>\n     </g>\n    </g>\n    <g id=\"xtick_8\">\n     <g id=\"line2d_8\">\n      <g>\n       <use xlink:href=\"#mb9907d956a\" x=\"325.317614\" y=\"239.758125\" style=\"stroke: #000000; stroke-width: 0.8\"/>\n      </g>\n     </g>\n     <g id=\"text_8\">\n      <!-- 2021.5 -->\n      <g transform=\"translate(307.822301 254.356562)scale(0.1 -0.1)\">\n       <use xlink:href=\"#DejaVuSans-32\"/>\n       <use xlink:href=\"#DejaVuSans-30\" x=\"63.623047\"/>\n       <use xlink:href=\"#DejaVuSans-32\" x=\"127.246094\"/>\n       <use xlink:href=\"#DejaVuSans-31\" x=\"190.869141\"/>\n       <use xlink:href=\"#DejaVuSans-2e\" x=\"254.492188\"/>\n       <use xlink:href=\"#DejaVuSans-35\" x=\"286.279297\"/>\n      </g>\n     </g>\n    </g>\n    <g id=\"xtick_9\">\n     <g id=\"line2d_9\">\n      <g>\n       <use xlink:href=\"#mb9907d956a\" x=\"363.363068\" y=\"239.758125\" style=\"stroke: #000000; stroke-width: 0.8\"/>\n      </g>\n     </g>\n     <g id=\"text_9\">\n      <!-- 2022.0 -->\n      <g transform=\"translate(345.867756 254.356562)scale(0.1 -0.1)\">\n       <use xlink:href=\"#DejaVuSans-32\"/>\n       <use xlink:href=\"#DejaVuSans-30\" x=\"63.623047\"/>\n       <use xlink:href=\"#DejaVuSans-32\" x=\"127.246094\"/>\n       <use xlink:href=\"#DejaVuSans-32\" x=\"190.869141\"/>\n       <use xlink:href=\"#DejaVuSans-2e\" x=\"254.492188\"/>\n       <use xlink:href=\"#DejaVuSans-30\" x=\"286.279297\"/>\n      </g>\n     </g>\n    </g>\n    <g id=\"text_10\">\n     <!-- season -->\n     <g transform=\"translate(193.603125 268.034687)scale(0.1 -0.1)\">\n      <defs>\n       <path id=\"DejaVuSans-73\" d=\"M 2834 3397 \nL 2834 2853 \nQ 2591 2978 2328 3040 \nQ 2066 3103 1784 3103 \nQ 1356 3103 1142 2972 \nQ 928 2841 928 2578 \nQ 928 2378 1081 2264 \nQ 1234 2150 1697 2047 \nL 1894 2003 \nQ 2506 1872 2764 1633 \nQ 3022 1394 3022 966 \nQ 3022 478 2636 193 \nQ 2250 -91 1575 -91 \nQ 1294 -91 989 -36 \nQ 684 19 347 128 \nL 347 722 \nQ 666 556 975 473 \nQ 1284 391 1588 391 \nQ 1994 391 2212 530 \nQ 2431 669 2431 922 \nQ 2431 1156 2273 1281 \nQ 2116 1406 1581 1522 \nL 1381 1569 \nQ 847 1681 609 1914 \nQ 372 2147 372 2553 \nQ 372 3047 722 3315 \nQ 1072 3584 1716 3584 \nQ 2034 3584 2315 3537 \nQ 2597 3491 2834 3397 \nz\n\" transform=\"scale(0.015625)\"/>\n       <path id=\"DejaVuSans-65\" d=\"M 3597 1894 \nL 3597 1613 \nL 953 1613 \nQ 991 1019 1311 708 \nQ 1631 397 2203 397 \nQ 2534 397 2845 478 \nQ 3156 559 3463 722 \nL 3463 178 \nQ 3153 47 2828 -22 \nQ 2503 -91 2169 -91 \nQ 1331 -91 842 396 \nQ 353 884 353 1716 \nQ 353 2575 817 3079 \nQ 1281 3584 2069 3584 \nQ 2775 3584 3186 3129 \nQ 3597 2675 3597 1894 \nz\nM 3022 2063 \nQ 3016 2534 2758 2815 \nQ 2500 3097 2075 3097 \nQ 1594 3097 1305 2825 \nQ 1016 2553 972 2059 \nL 3022 2063 \nz\n\" transform=\"scale(0.015625)\"/>\n       <path id=\"DejaVuSans-61\" d=\"M 2194 1759 \nQ 1497 1759 1228 1600 \nQ 959 1441 959 1056 \nQ 959 750 1161 570 \nQ 1363 391 1709 391 \nQ 2188 391 2477 730 \nQ 2766 1069 2766 1631 \nL 2766 1759 \nL 2194 1759 \nz\nM 3341 1997 \nL 3341 0 \nL 2766 0 \nL 2766 531 \nQ 2569 213 2275 61 \nQ 1981 -91 1556 -91 \nQ 1019 -91 701 211 \nQ 384 513 384 1019 \nQ 384 1609 779 1909 \nQ 1175 2209 1959 2209 \nL 2766 2209 \nL 2766 2266 \nQ 2766 2663 2505 2880 \nQ 2244 3097 1772 3097 \nQ 1472 3097 1187 3025 \nQ 903 2953 641 2809 \nL 641 3341 \nQ 956 3463 1253 3523 \nQ 1550 3584 1831 3584 \nQ 2591 3584 2966 3190 \nQ 3341 2797 3341 1997 \nz\n\" transform=\"scale(0.015625)\"/>\n       <path id=\"DejaVuSans-6f\" d=\"M 1959 3097 \nQ 1497 3097 1228 2736 \nQ 959 2375 959 1747 \nQ 959 1119 1226 758 \nQ 1494 397 1959 397 \nQ 2419 397 2687 759 \nQ 2956 1122 2956 1747 \nQ 2956 2369 2687 2733 \nQ 2419 3097 1959 3097 \nz\nM 1959 3584 \nQ 2709 3584 3137 3096 \nQ 3566 2609 3566 1747 \nQ 3566 888 3137 398 \nQ 2709 -91 1959 -91 \nQ 1206 -91 779 398 \nQ 353 888 353 1747 \nQ 353 2609 779 3096 \nQ 1206 3584 1959 3584 \nz\n\" transform=\"scale(0.015625)\"/>\n       <path id=\"DejaVuSans-6e\" d=\"M 3513 2113 \nL 3513 0 \nL 2938 0 \nL 2938 2094 \nQ 2938 2591 2744 2837 \nQ 2550 3084 2163 3084 \nQ 1697 3084 1428 2787 \nQ 1159 2491 1159 1978 \nL 1159 0 \nL 581 0 \nL 581 3500 \nL 1159 3500 \nL 1159 2956 \nQ 1366 3272 1645 3428 \nQ 1925 3584 2291 3584 \nQ 2894 3584 3203 3211 \nQ 3513 2838 3513 2113 \nz\n\" transform=\"scale(0.015625)\"/>\n      </defs>\n      <use xlink:href=\"#DejaVuSans-73\"/>\n      <use xlink:href=\"#DejaVuSans-65\" x=\"52.099609\"/>\n      <use xlink:href=\"#DejaVuSans-61\" x=\"113.623047\"/>\n      <use xlink:href=\"#DejaVuSans-73\" x=\"174.902344\"/>\n      <use xlink:href=\"#DejaVuSans-6f\" x=\"227.001953\"/>\n      <use xlink:href=\"#DejaVuSans-6e\" x=\"288.183594\"/>\n     </g>\n    </g>\n   </g>\n   <g id=\"matplotlib.axis_2\">\n    <g id=\"ytick_1\">\n     <g id=\"line2d_10\">\n      <defs>\n       <path id=\"ma195b8f4c4\" d=\"M 0 0 \nL -3.5 0 \n\" style=\"stroke: #000000; stroke-width: 0.8\"/>\n      </defs>\n      <g>\n       <use xlink:href=\"#ma195b8f4c4\" x=\"43.78125\" y=\"229.874489\" style=\"stroke: #000000; stroke-width: 0.8\"/>\n      </g>\n     </g>\n     <g id=\"text_11\">\n      <!-- 0.0 -->\n      <g transform=\"translate(20.878125 233.673707)scale(0.1 -0.1)\">\n       <use xlink:href=\"#DejaVuSans-30\"/>\n       <use xlink:href=\"#DejaVuSans-2e\" x=\"63.623047\"/>\n       <use xlink:href=\"#DejaVuSans-30\" x=\"95.410156\"/>\n      </g>\n     </g>\n    </g>\n    <g id=\"ytick_2\">\n     <g id=\"line2d_11\">\n      <g>\n       <use xlink:href=\"#ma195b8f4c4\" x=\"43.78125\" y=\"196.929034\" style=\"stroke: #000000; stroke-width: 0.8\"/>\n      </g>\n     </g>\n     <g id=\"text_12\">\n      <!-- 0.5 -->\n      <g transform=\"translate(20.878125 200.728253)scale(0.1 -0.1)\">\n       <use xlink:href=\"#DejaVuSans-30\"/>\n       <use xlink:href=\"#DejaVuSans-2e\" x=\"63.623047\"/>\n       <use xlink:href=\"#DejaVuSans-35\" x=\"95.410156\"/>\n      </g>\n     </g>\n    </g>\n    <g id=\"ytick_3\">\n     <g id=\"line2d_12\">\n      <g>\n       <use xlink:href=\"#ma195b8f4c4\" x=\"43.78125\" y=\"163.98358\" style=\"stroke: #000000; stroke-width: 0.8\"/>\n      </g>\n     </g>\n     <g id=\"text_13\">\n      <!-- 1.0 -->\n      <g transform=\"translate(20.878125 167.782798)scale(0.1 -0.1)\">\n       <use xlink:href=\"#DejaVuSans-31\"/>\n       <use xlink:href=\"#DejaVuSans-2e\" x=\"63.623047\"/>\n       <use xlink:href=\"#DejaVuSans-30\" x=\"95.410156\"/>\n      </g>\n     </g>\n    </g>\n    <g id=\"ytick_4\">\n     <g id=\"line2d_13\">\n      <g>\n       <use xlink:href=\"#ma195b8f4c4\" x=\"43.78125\" y=\"131.038125\" style=\"stroke: #000000; stroke-width: 0.8\"/>\n      </g>\n     </g>\n     <g id=\"text_14\">\n      <!-- 1.5 -->\n      <g transform=\"translate(20.878125 134.837344)scale(0.1 -0.1)\">\n       <use xlink:href=\"#DejaVuSans-31\"/>\n       <use xlink:href=\"#DejaVuSans-2e\" x=\"63.623047\"/>\n       <use xlink:href=\"#DejaVuSans-35\" x=\"95.410156\"/>\n      </g>\n     </g>\n    </g>\n    <g id=\"ytick_5\">\n     <g id=\"line2d_14\">\n      <g>\n       <use xlink:href=\"#ma195b8f4c4\" x=\"43.78125\" y=\"98.09267\" style=\"stroke: #000000; stroke-width: 0.8\"/>\n      </g>\n     </g>\n     <g id=\"text_15\">\n      <!-- 2.0 -->\n      <g transform=\"translate(20.878125 101.891889)scale(0.1 -0.1)\">\n       <use xlink:href=\"#DejaVuSans-32\"/>\n       <use xlink:href=\"#DejaVuSans-2e\" x=\"63.623047\"/>\n       <use xlink:href=\"#DejaVuSans-30\" x=\"95.410156\"/>\n      </g>\n     </g>\n    </g>\n    <g id=\"ytick_6\">\n     <g id=\"line2d_15\">\n      <g>\n       <use xlink:href=\"#ma195b8f4c4\" x=\"43.78125\" y=\"65.147216\" style=\"stroke: #000000; stroke-width: 0.8\"/>\n      </g>\n     </g>\n     <g id=\"text_16\">\n      <!-- 2.5 -->\n      <g transform=\"translate(20.878125 68.946435)scale(0.1 -0.1)\">\n       <use xlink:href=\"#DejaVuSans-32\"/>\n       <use xlink:href=\"#DejaVuSans-2e\" x=\"63.623047\"/>\n       <use xlink:href=\"#DejaVuSans-35\" x=\"95.410156\"/>\n      </g>\n     </g>\n    </g>\n    <g id=\"ytick_7\">\n     <g id=\"line2d_16\">\n      <g>\n       <use xlink:href=\"#ma195b8f4c4\" x=\"43.78125\" y=\"32.201761\" style=\"stroke: #000000; stroke-width: 0.8\"/>\n      </g>\n     </g>\n     <g id=\"text_17\">\n      <!-- 3.0 -->\n      <g transform=\"translate(20.878125 36.00098)scale(0.1 -0.1)\">\n       <defs>\n        <path id=\"DejaVuSans-33\" d=\"M 2597 2516 \nQ 3050 2419 3304 2112 \nQ 3559 1806 3559 1356 \nQ 3559 666 3084 287 \nQ 2609 -91 1734 -91 \nQ 1441 -91 1130 -33 \nQ 819 25 488 141 \nL 488 750 \nQ 750 597 1062 519 \nQ 1375 441 1716 441 \nQ 2309 441 2620 675 \nQ 2931 909 2931 1356 \nQ 2931 1769 2642 2001 \nQ 2353 2234 1838 2234 \nL 1294 2234 \nL 1294 2753 \nL 1863 2753 \nQ 2328 2753 2575 2939 \nQ 2822 3125 2822 3475 \nQ 2822 3834 2567 4026 \nQ 2313 4219 1838 4219 \nQ 1578 4219 1281 4162 \nQ 984 4106 628 3988 \nL 628 4550 \nQ 988 4650 1302 4700 \nQ 1616 4750 1894 4750 \nQ 2613 4750 3031 4423 \nQ 3450 4097 3450 3541 \nQ 3450 3153 3228 2886 \nQ 3006 2619 2597 2516 \nz\n\" transform=\"scale(0.015625)\"/>\n       </defs>\n       <use xlink:href=\"#DejaVuSans-33\"/>\n       <use xlink:href=\"#DejaVuSans-2e\" x=\"63.623047\"/>\n       <use xlink:href=\"#DejaVuSans-30\" x=\"95.410156\"/>\n      </g>\n     </g>\n    </g>\n    <g id=\"text_18\">\n     <!-- races -->\n     <g transform=\"translate(14.798438 144.588125)rotate(-90)scale(0.1 -0.1)\">\n      <defs>\n       <path id=\"DejaVuSans-72\" d=\"M 2631 2963 \nQ 2534 3019 2420 3045 \nQ 2306 3072 2169 3072 \nQ 1681 3072 1420 2755 \nQ 1159 2438 1159 1844 \nL 1159 0 \nL 581 0 \nL 581 3500 \nL 1159 3500 \nL 1159 2956 \nQ 1341 3275 1631 3429 \nQ 1922 3584 2338 3584 \nQ 2397 3584 2469 3576 \nQ 2541 3569 2628 3553 \nL 2631 2963 \nz\n\" transform=\"scale(0.015625)\"/>\n       <path id=\"DejaVuSans-63\" d=\"M 3122 3366 \nL 3122 2828 \nQ 2878 2963 2633 3030 \nQ 2388 3097 2138 3097 \nQ 1578 3097 1268 2742 \nQ 959 2388 959 1747 \nQ 959 1106 1268 751 \nQ 1578 397 2138 397 \nQ 2388 397 2633 464 \nQ 2878 531 3122 666 \nL 3122 134 \nQ 2881 22 2623 -34 \nQ 2366 -91 2075 -91 \nQ 1284 -91 818 406 \nQ 353 903 353 1747 \nQ 353 2603 823 3093 \nQ 1294 3584 2113 3584 \nQ 2378 3584 2631 3529 \nQ 2884 3475 3122 3366 \nz\n\" transform=\"scale(0.015625)\"/>\n      </defs>\n      <use xlink:href=\"#DejaVuSans-72\"/>\n      <use xlink:href=\"#DejaVuSans-61\" x=\"41.113281\"/>\n      <use xlink:href=\"#DejaVuSans-63\" x=\"102.392578\"/>\n      <use xlink:href=\"#DejaVuSans-65\" x=\"157.373047\"/>\n      <use xlink:href=\"#DejaVuSans-73\" x=\"218.896484\"/>\n     </g>\n    </g>\n   </g>\n   <g id=\"line2d_17\">\n    <path d=\"M 58.999432 229.874489 \nL 135.090341 98.09267 \nL 211.18125 229.874489 \nL 287.272159 229.874489 \nL 363.363068 32.201761 \n\" clip-path=\"url(#p772e2734e0)\" style=\"fill: none; stroke: #1f77b4; stroke-width: 1.5; stroke-linecap: square\"/>\n   </g>\n   <g id=\"patch_3\">\n    <path d=\"M 43.78125 239.758125 \nL 43.78125 22.318125 \n\" style=\"fill: none; stroke: #000000; stroke-width: 0.8; stroke-linejoin: miter; stroke-linecap: square\"/>\n   </g>\n   <g id=\"patch_4\">\n    <path d=\"M 378.58125 239.758125 \nL 378.58125 22.318125 \n\" style=\"fill: none; stroke: #000000; stroke-width: 0.8; stroke-linejoin: miter; stroke-linecap: square\"/>\n   </g>\n   <g id=\"patch_5\">\n    <path d=\"M 43.78125 239.758125 \nL 378.58125 239.758125 \n\" style=\"fill: none; stroke: #000000; stroke-width: 0.8; stroke-linejoin: miter; stroke-linecap: square\"/>\n   </g>\n   <g id=\"patch_6\">\n    <path d=\"M 43.78125 22.318125 \nL 378.58125 22.318125 \n\" style=\"fill: none; stroke: #000000; stroke-width: 0.8; stroke-linejoin: miter; stroke-linecap: square\"/>\n   </g>\n   <g id=\"text_19\">\n    <!-- leclerc's F1 Wins -->\n    <g transform=\"translate(161.284688 16.318125)scale(0.12 -0.12)\">\n     <defs>\n      <path id=\"DejaVuSans-6c\" d=\"M 603 4863 \nL 1178 4863 \nL 1178 0 \nL 603 0 \nL 603 4863 \nz\n\" transform=\"scale(0.015625)\"/>\n      <path id=\"DejaVuSans-27\" d=\"M 1147 4666 \nL 1147 2931 \nL 616 2931 \nL 616 4666 \nL 1147 4666 \nz\n\" transform=\"scale(0.015625)\"/>\n      <path id=\"DejaVuSans-20\" transform=\"scale(0.015625)\"/>\n      <path id=\"DejaVuSans-46\" d=\"M 628 4666 \nL 3309 4666 \nL 3309 4134 \nL 1259 4134 \nL 1259 2759 \nL 3109 2759 \nL 3109 2228 \nL 1259 2228 \nL 1259 0 \nL 628 0 \nL 628 4666 \nz\n\" transform=\"scale(0.015625)\"/>\n      <path id=\"DejaVuSans-57\" d=\"M 213 4666 \nL 850 4666 \nL 1831 722 \nL 2809 4666 \nL 3519 4666 \nL 4500 722 \nL 5478 4666 \nL 6119 4666 \nL 4947 0 \nL 4153 0 \nL 3169 4050 \nL 2175 0 \nL 1381 0 \nL 213 4666 \nz\n\" transform=\"scale(0.015625)\"/>\n      <path id=\"DejaVuSans-69\" d=\"M 603 3500 \nL 1178 3500 \nL 1178 0 \nL 603 0 \nL 603 3500 \nz\nM 603 4863 \nL 1178 4863 \nL 1178 4134 \nL 603 4134 \nL 603 4863 \nz\n\" transform=\"scale(0.015625)\"/>\n     </defs>\n     <use xlink:href=\"#DejaVuSans-6c\"/>\n     <use xlink:href=\"#DejaVuSans-65\" x=\"27.783203\"/>\n     <use xlink:href=\"#DejaVuSans-63\" x=\"89.306641\"/>\n     <use xlink:href=\"#DejaVuSans-6c\" x=\"144.287109\"/>\n     <use xlink:href=\"#DejaVuSans-65\" x=\"172.070312\"/>\n     <use xlink:href=\"#DejaVuSans-72\" x=\"233.59375\"/>\n     <use xlink:href=\"#DejaVuSans-63\" x=\"272.457031\"/>\n     <use xlink:href=\"#DejaVuSans-27\" x=\"327.4375\"/>\n     <use xlink:href=\"#DejaVuSans-73\" x=\"354.927734\"/>\n     <use xlink:href=\"#DejaVuSans-20\" x=\"407.027344\"/>\n     <use xlink:href=\"#DejaVuSans-46\" x=\"438.814453\"/>\n     <use xlink:href=\"#DejaVuSans-31\" x=\"496.333984\"/>\n     <use xlink:href=\"#DejaVuSans-20\" x=\"559.957031\"/>\n     <use xlink:href=\"#DejaVuSans-57\" x=\"591.744141\"/>\n     <use xlink:href=\"#DejaVuSans-69\" x=\"688.371094\"/>\n     <use xlink:href=\"#DejaVuSans-6e\" x=\"716.154297\"/>\n     <use xlink:href=\"#DejaVuSans-73\" x=\"779.533203\"/>\n    </g>\n   </g>\n   <g id=\"legend_1\">\n    <g id=\"patch_7\">\n     <path d=\"M 50.78125 59.674375 \nL 115.526563 59.674375 \nQ 117.526563 59.674375 117.526563 57.674375 \nL 117.526563 29.318125 \nQ 117.526563 27.318125 115.526563 27.318125 \nL 50.78125 27.318125 \nQ 48.78125 27.318125 48.78125 29.318125 \nL 48.78125 57.674375 \nQ 48.78125 59.674375 50.78125 59.674375 \nz\n\" style=\"fill: #ffffff; opacity: 0.8; stroke: #cccccc; stroke-linejoin: miter\"/>\n    </g>\n    <g id=\"text_20\">\n     <!-- driver -->\n     <g transform=\"translate(68.44375 38.916562)scale(0.1 -0.1)\">\n      <defs>\n       <path id=\"DejaVuSans-64\" d=\"M 2906 2969 \nL 2906 4863 \nL 3481 4863 \nL 3481 0 \nL 2906 0 \nL 2906 525 \nQ 2725 213 2448 61 \nQ 2172 -91 1784 -91 \nQ 1150 -91 751 415 \nQ 353 922 353 1747 \nQ 353 2572 751 3078 \nQ 1150 3584 1784 3584 \nQ 2172 3584 2448 3432 \nQ 2725 3281 2906 2969 \nz\nM 947 1747 \nQ 947 1113 1208 752 \nQ 1469 391 1925 391 \nQ 2381 391 2643 752 \nQ 2906 1113 2906 1747 \nQ 2906 2381 2643 2742 \nQ 2381 3103 1925 3103 \nQ 1469 3103 1208 2742 \nQ 947 2381 947 1747 \nz\n\" transform=\"scale(0.015625)\"/>\n       <path id=\"DejaVuSans-76\" d=\"M 191 3500 \nL 800 3500 \nL 1894 563 \nL 2988 3500 \nL 3597 3500 \nL 2284 0 \nL 1503 0 \nL 191 3500 \nz\n\" transform=\"scale(0.015625)\"/>\n      </defs>\n      <use xlink:href=\"#DejaVuSans-64\"/>\n      <use xlink:href=\"#DejaVuSans-72\" x=\"63.476562\"/>\n      <use xlink:href=\"#DejaVuSans-69\" x=\"104.589844\"/>\n      <use xlink:href=\"#DejaVuSans-76\" x=\"132.373047\"/>\n      <use xlink:href=\"#DejaVuSans-65\" x=\"191.552734\"/>\n      <use xlink:href=\"#DejaVuSans-72\" x=\"253.076172\"/>\n     </g>\n    </g>\n    <g id=\"line2d_18\">\n     <path d=\"M 52.78125 50.094687 \nL 62.78125 50.094687 \nL 72.78125 50.094687 \n\" style=\"fill: none; stroke: #1f77b4; stroke-width: 1.5; stroke-linecap: square\"/>\n    </g>\n    <g id=\"text_21\">\n     <!-- leclerc -->\n     <g transform=\"translate(80.78125 53.594687)scale(0.1 -0.1)\">\n      <use xlink:href=\"#DejaVuSans-6c\"/>\n      <use xlink:href=\"#DejaVuSans-65\" x=\"27.783203\"/>\n      <use xlink:href=\"#DejaVuSans-63\" x=\"89.306641\"/>\n      <use xlink:href=\"#DejaVuSans-6c\" x=\"144.287109\"/>\n      <use xlink:href=\"#DejaVuSans-65\" x=\"172.070312\"/>\n      <use xlink:href=\"#DejaVuSans-72\" x=\"233.59375\"/>\n      <use xlink:href=\"#DejaVuSans-63\" x=\"272.457031\"/>\n     </g>\n    </g>\n   </g>\n  </g>\n </g>\n <defs>\n  <clipPath id=\"p772e2734e0\">\n   <rect x=\"43.78125\" y=\"22.318125\" width=\"334.8\" height=\"217.44\"/>\n  </clipPath>\n </defs>\n</svg>\n",
      "text/plain": [
       "<Figure size 432x288 with 1 Axes>"
      ]
     },
     "metadata": {
      "needs_background": "light"
     },
     "output_type": "display_data"
    }
   ],
   "source": [
    "plot_data_wins.plot(title=f\"{driver}'s F1 Wins\", ylabel=\"races\")"
   ]
  },
  {
   "cell_type": "code",
   "execution_count": 181,
   "metadata": {},
   "outputs": [
    {
     "data": {
      "text/plain": [
       "<AxesSubplot:title={'center':\"leclerc's F1 Race Starts\"}, xlabel='season', ylabel='races'>"
      ]
     },
     "execution_count": 181,
     "metadata": {},
     "output_type": "execute_result"
    },
    {
     "data": {
      "image/svg+xml": "<?xml version=\"1.0\" encoding=\"utf-8\" standalone=\"no\"?>\n<!DOCTYPE svg PUBLIC \"-//W3C//DTD SVG 1.1//EN\"\n  \"http://www.w3.org/Graphics/SVG/1.1/DTD/svg11.dtd\">\n<svg xmlns:xlink=\"http://www.w3.org/1999/xlink\" width=\"384.880256pt\" height=\"277.314375pt\" viewBox=\"0 0 384.880256 277.314375\" xmlns=\"http://www.w3.org/2000/svg\" version=\"1.1\">\n <metadata>\n  <rdf:RDF xmlns:dc=\"http://purl.org/dc/elements/1.1/\" xmlns:cc=\"http://creativecommons.org/ns#\" xmlns:rdf=\"http://www.w3.org/1999/02/22-rdf-syntax-ns#\">\n   <cc:Work>\n    <dc:type rdf:resource=\"http://purl.org/dc/dcmitype/StillImage\"/>\n    <dc:date>2022-08-03T21:05:43.028963</dc:date>\n    <dc:format>image/svg+xml</dc:format>\n    <dc:creator>\n     <cc:Agent>\n      <dc:title>Matplotlib v3.5.2, https://matplotlib.org/</dc:title>\n     </cc:Agent>\n    </dc:creator>\n   </cc:Work>\n  </rdf:RDF>\n </metadata>\n <defs>\n  <style type=\"text/css\">*{stroke-linejoin: round; stroke-linecap: butt}</style>\n </defs>\n <g id=\"figure_1\">\n  <g id=\"patch_1\">\n   <path d=\"M 0 277.314375 \nL 384.880256 277.314375 \nL 384.880256 0 \nL 0 0 \nL 0 277.314375 \nz\n\" style=\"fill: none\"/>\n  </g>\n  <g id=\"axes_1\">\n   <g id=\"patch_2\">\n    <path d=\"M 40.603125 239.758125 \nL 375.403125 239.758125 \nL 375.403125 22.318125 \nL 40.603125 22.318125 \nz\n\" style=\"fill: #ffffff\"/>\n   </g>\n   <g id=\"matplotlib.axis_1\">\n    <g id=\"xtick_1\">\n     <g id=\"line2d_1\">\n      <defs>\n       <path id=\"m132d34f03f\" d=\"M 0 0 \nL 0 3.5 \n\" style=\"stroke: #000000; stroke-width: 0.8\"/>\n      </defs>\n      <g>\n       <use xlink:href=\"#m132d34f03f\" x=\"55.821307\" y=\"239.758125\" style=\"stroke: #000000; stroke-width: 0.8\"/>\n      </g>\n     </g>\n     <g id=\"text_1\">\n      <!-- 2018.0 -->\n      <g transform=\"translate(38.325994 254.356562)scale(0.1 -0.1)\">\n       <defs>\n        <path id=\"DejaVuSans-32\" d=\"M 1228 531 \nL 3431 531 \nL 3431 0 \nL 469 0 \nL 469 531 \nQ 828 903 1448 1529 \nQ 2069 2156 2228 2338 \nQ 2531 2678 2651 2914 \nQ 2772 3150 2772 3378 \nQ 2772 3750 2511 3984 \nQ 2250 4219 1831 4219 \nQ 1534 4219 1204 4116 \nQ 875 4013 500 3803 \nL 500 4441 \nQ 881 4594 1212 4672 \nQ 1544 4750 1819 4750 \nQ 2544 4750 2975 4387 \nQ 3406 4025 3406 3419 \nQ 3406 3131 3298 2873 \nQ 3191 2616 2906 2266 \nQ 2828 2175 2409 1742 \nQ 1991 1309 1228 531 \nz\n\" transform=\"scale(0.015625)\"/>\n        <path id=\"DejaVuSans-30\" d=\"M 2034 4250 \nQ 1547 4250 1301 3770 \nQ 1056 3291 1056 2328 \nQ 1056 1369 1301 889 \nQ 1547 409 2034 409 \nQ 2525 409 2770 889 \nQ 3016 1369 3016 2328 \nQ 3016 3291 2770 3770 \nQ 2525 4250 2034 4250 \nz\nM 2034 4750 \nQ 2819 4750 3233 4129 \nQ 3647 3509 3647 2328 \nQ 3647 1150 3233 529 \nQ 2819 -91 2034 -91 \nQ 1250 -91 836 529 \nQ 422 1150 422 2328 \nQ 422 3509 836 4129 \nQ 1250 4750 2034 4750 \nz\n\" transform=\"scale(0.015625)\"/>\n        <path id=\"DejaVuSans-31\" d=\"M 794 531 \nL 1825 531 \nL 1825 4091 \nL 703 3866 \nL 703 4441 \nL 1819 4666 \nL 2450 4666 \nL 2450 531 \nL 3481 531 \nL 3481 0 \nL 794 0 \nL 794 531 \nz\n\" transform=\"scale(0.015625)\"/>\n        <path id=\"DejaVuSans-38\" d=\"M 2034 2216 \nQ 1584 2216 1326 1975 \nQ 1069 1734 1069 1313 \nQ 1069 891 1326 650 \nQ 1584 409 2034 409 \nQ 2484 409 2743 651 \nQ 3003 894 3003 1313 \nQ 3003 1734 2745 1975 \nQ 2488 2216 2034 2216 \nz\nM 1403 2484 \nQ 997 2584 770 2862 \nQ 544 3141 544 3541 \nQ 544 4100 942 4425 \nQ 1341 4750 2034 4750 \nQ 2731 4750 3128 4425 \nQ 3525 4100 3525 3541 \nQ 3525 3141 3298 2862 \nQ 3072 2584 2669 2484 \nQ 3125 2378 3379 2068 \nQ 3634 1759 3634 1313 \nQ 3634 634 3220 271 \nQ 2806 -91 2034 -91 \nQ 1263 -91 848 271 \nQ 434 634 434 1313 \nQ 434 1759 690 2068 \nQ 947 2378 1403 2484 \nz\nM 1172 3481 \nQ 1172 3119 1398 2916 \nQ 1625 2713 2034 2713 \nQ 2441 2713 2670 2916 \nQ 2900 3119 2900 3481 \nQ 2900 3844 2670 4047 \nQ 2441 4250 2034 4250 \nQ 1625 4250 1398 4047 \nQ 1172 3844 1172 3481 \nz\n\" transform=\"scale(0.015625)\"/>\n        <path id=\"DejaVuSans-2e\" d=\"M 684 794 \nL 1344 794 \nL 1344 0 \nL 684 0 \nL 684 794 \nz\n\" transform=\"scale(0.015625)\"/>\n       </defs>\n       <use xlink:href=\"#DejaVuSans-32\"/>\n       <use xlink:href=\"#DejaVuSans-30\" x=\"63.623047\"/>\n       <use xlink:href=\"#DejaVuSans-31\" x=\"127.246094\"/>\n       <use xlink:href=\"#DejaVuSans-38\" x=\"190.869141\"/>\n       <use xlink:href=\"#DejaVuSans-2e\" x=\"254.492188\"/>\n       <use xlink:href=\"#DejaVuSans-30\" x=\"286.279297\"/>\n      </g>\n     </g>\n    </g>\n    <g id=\"xtick_2\">\n     <g id=\"line2d_2\">\n      <g>\n       <use xlink:href=\"#m132d34f03f\" x=\"93.866761\" y=\"239.758125\" style=\"stroke: #000000; stroke-width: 0.8\"/>\n      </g>\n     </g>\n     <g id=\"text_2\">\n      <!-- 2018.5 -->\n      <g transform=\"translate(76.371449 254.356562)scale(0.1 -0.1)\">\n       <defs>\n        <path id=\"DejaVuSans-35\" d=\"M 691 4666 \nL 3169 4666 \nL 3169 4134 \nL 1269 4134 \nL 1269 2991 \nQ 1406 3038 1543 3061 \nQ 1681 3084 1819 3084 \nQ 2600 3084 3056 2656 \nQ 3513 2228 3513 1497 \nQ 3513 744 3044 326 \nQ 2575 -91 1722 -91 \nQ 1428 -91 1123 -41 \nQ 819 9 494 109 \nL 494 744 \nQ 775 591 1075 516 \nQ 1375 441 1709 441 \nQ 2250 441 2565 725 \nQ 2881 1009 2881 1497 \nQ 2881 1984 2565 2268 \nQ 2250 2553 1709 2553 \nQ 1456 2553 1204 2497 \nQ 953 2441 691 2322 \nL 691 4666 \nz\n\" transform=\"scale(0.015625)\"/>\n       </defs>\n       <use xlink:href=\"#DejaVuSans-32\"/>\n       <use xlink:href=\"#DejaVuSans-30\" x=\"63.623047\"/>\n       <use xlink:href=\"#DejaVuSans-31\" x=\"127.246094\"/>\n       <use xlink:href=\"#DejaVuSans-38\" x=\"190.869141\"/>\n       <use xlink:href=\"#DejaVuSans-2e\" x=\"254.492188\"/>\n       <use xlink:href=\"#DejaVuSans-35\" x=\"286.279297\"/>\n      </g>\n     </g>\n    </g>\n    <g id=\"xtick_3\">\n     <g id=\"line2d_3\">\n      <g>\n       <use xlink:href=\"#m132d34f03f\" x=\"131.912216\" y=\"239.758125\" style=\"stroke: #000000; stroke-width: 0.8\"/>\n      </g>\n     </g>\n     <g id=\"text_3\">\n      <!-- 2019.0 -->\n      <g transform=\"translate(114.416903 254.356562)scale(0.1 -0.1)\">\n       <defs>\n        <path id=\"DejaVuSans-39\" d=\"M 703 97 \nL 703 672 \nQ 941 559 1184 500 \nQ 1428 441 1663 441 \nQ 2288 441 2617 861 \nQ 2947 1281 2994 2138 \nQ 2813 1869 2534 1725 \nQ 2256 1581 1919 1581 \nQ 1219 1581 811 2004 \nQ 403 2428 403 3163 \nQ 403 3881 828 4315 \nQ 1253 4750 1959 4750 \nQ 2769 4750 3195 4129 \nQ 3622 3509 3622 2328 \nQ 3622 1225 3098 567 \nQ 2575 -91 1691 -91 \nQ 1453 -91 1209 -44 \nQ 966 3 703 97 \nz\nM 1959 2075 \nQ 2384 2075 2632 2365 \nQ 2881 2656 2881 3163 \nQ 2881 3666 2632 3958 \nQ 2384 4250 1959 4250 \nQ 1534 4250 1286 3958 \nQ 1038 3666 1038 3163 \nQ 1038 2656 1286 2365 \nQ 1534 2075 1959 2075 \nz\n\" transform=\"scale(0.015625)\"/>\n       </defs>\n       <use xlink:href=\"#DejaVuSans-32\"/>\n       <use xlink:href=\"#DejaVuSans-30\" x=\"63.623047\"/>\n       <use xlink:href=\"#DejaVuSans-31\" x=\"127.246094\"/>\n       <use xlink:href=\"#DejaVuSans-39\" x=\"190.869141\"/>\n       <use xlink:href=\"#DejaVuSans-2e\" x=\"254.492188\"/>\n       <use xlink:href=\"#DejaVuSans-30\" x=\"286.279297\"/>\n      </g>\n     </g>\n    </g>\n    <g id=\"xtick_4\">\n     <g id=\"line2d_4\">\n      <g>\n       <use xlink:href=\"#m132d34f03f\" x=\"169.95767\" y=\"239.758125\" style=\"stroke: #000000; stroke-width: 0.8\"/>\n      </g>\n     </g>\n     <g id=\"text_4\">\n      <!-- 2019.5 -->\n      <g transform=\"translate(152.462358 254.356562)scale(0.1 -0.1)\">\n       <use xlink:href=\"#DejaVuSans-32\"/>\n       <use xlink:href=\"#DejaVuSans-30\" x=\"63.623047\"/>\n       <use xlink:href=\"#DejaVuSans-31\" x=\"127.246094\"/>\n       <use xlink:href=\"#DejaVuSans-39\" x=\"190.869141\"/>\n       <use xlink:href=\"#DejaVuSans-2e\" x=\"254.492188\"/>\n       <use xlink:href=\"#DejaVuSans-35\" x=\"286.279297\"/>\n      </g>\n     </g>\n    </g>\n    <g id=\"xtick_5\">\n     <g id=\"line2d_5\">\n      <g>\n       <use xlink:href=\"#m132d34f03f\" x=\"208.003125\" y=\"239.758125\" style=\"stroke: #000000; stroke-width: 0.8\"/>\n      </g>\n     </g>\n     <g id=\"text_5\">\n      <!-- 2020.0 -->\n      <g transform=\"translate(190.507812 254.356562)scale(0.1 -0.1)\">\n       <use xlink:href=\"#DejaVuSans-32\"/>\n       <use xlink:href=\"#DejaVuSans-30\" x=\"63.623047\"/>\n       <use xlink:href=\"#DejaVuSans-32\" x=\"127.246094\"/>\n       <use xlink:href=\"#DejaVuSans-30\" x=\"190.869141\"/>\n       <use xlink:href=\"#DejaVuSans-2e\" x=\"254.492188\"/>\n       <use xlink:href=\"#DejaVuSans-30\" x=\"286.279297\"/>\n      </g>\n     </g>\n    </g>\n    <g id=\"xtick_6\">\n     <g id=\"line2d_6\">\n      <g>\n       <use xlink:href=\"#m132d34f03f\" x=\"246.04858\" y=\"239.758125\" style=\"stroke: #000000; stroke-width: 0.8\"/>\n      </g>\n     </g>\n     <g id=\"text_6\">\n      <!-- 2020.5 -->\n      <g transform=\"translate(228.553267 254.356562)scale(0.1 -0.1)\">\n       <use xlink:href=\"#DejaVuSans-32\"/>\n       <use xlink:href=\"#DejaVuSans-30\" x=\"63.623047\"/>\n       <use xlink:href=\"#DejaVuSans-32\" x=\"127.246094\"/>\n       <use xlink:href=\"#DejaVuSans-30\" x=\"190.869141\"/>\n       <use xlink:href=\"#DejaVuSans-2e\" x=\"254.492188\"/>\n       <use xlink:href=\"#DejaVuSans-35\" x=\"286.279297\"/>\n      </g>\n     </g>\n    </g>\n    <g id=\"xtick_7\">\n     <g id=\"line2d_7\">\n      <g>\n       <use xlink:href=\"#m132d34f03f\" x=\"284.094034\" y=\"239.758125\" style=\"stroke: #000000; stroke-width: 0.8\"/>\n      </g>\n     </g>\n     <g id=\"text_7\">\n      <!-- 2021.0 -->\n      <g transform=\"translate(266.598722 254.356562)scale(0.1 -0.1)\">\n       <use xlink:href=\"#DejaVuSans-32\"/>\n       <use xlink:href=\"#DejaVuSans-30\" x=\"63.623047\"/>\n       <use xlink:href=\"#DejaVuSans-32\" x=\"127.246094\"/>\n       <use xlink:href=\"#DejaVuSans-31\" x=\"190.869141\"/>\n       <use xlink:href=\"#DejaVuSans-2e\" x=\"254.492188\"/>\n       <use xlink:href=\"#DejaVuSans-30\" x=\"286.279297\"/>\n      </g>\n     </g>\n    </g>\n    <g id=\"xtick_8\">\n     <g id=\"line2d_8\">\n      <g>\n       <use xlink:href=\"#m132d34f03f\" x=\"322.139489\" y=\"239.758125\" style=\"stroke: #000000; stroke-width: 0.8\"/>\n      </g>\n     </g>\n     <g id=\"text_8\">\n      <!-- 2021.5 -->\n      <g transform=\"translate(304.644176 254.356562)scale(0.1 -0.1)\">\n       <use xlink:href=\"#DejaVuSans-32\"/>\n       <use xlink:href=\"#DejaVuSans-30\" x=\"63.623047\"/>\n       <use xlink:href=\"#DejaVuSans-32\" x=\"127.246094\"/>\n       <use xlink:href=\"#DejaVuSans-31\" x=\"190.869141\"/>\n       <use xlink:href=\"#DejaVuSans-2e\" x=\"254.492188\"/>\n       <use xlink:href=\"#DejaVuSans-35\" x=\"286.279297\"/>\n      </g>\n     </g>\n    </g>\n    <g id=\"xtick_9\">\n     <g id=\"line2d_9\">\n      <g>\n       <use xlink:href=\"#m132d34f03f\" x=\"360.184943\" y=\"239.758125\" style=\"stroke: #000000; stroke-width: 0.8\"/>\n      </g>\n     </g>\n     <g id=\"text_9\">\n      <!-- 2022.0 -->\n      <g transform=\"translate(342.689631 254.356562)scale(0.1 -0.1)\">\n       <use xlink:href=\"#DejaVuSans-32\"/>\n       <use xlink:href=\"#DejaVuSans-30\" x=\"63.623047\"/>\n       <use xlink:href=\"#DejaVuSans-32\" x=\"127.246094\"/>\n       <use xlink:href=\"#DejaVuSans-32\" x=\"190.869141\"/>\n       <use xlink:href=\"#DejaVuSans-2e\" x=\"254.492188\"/>\n       <use xlink:href=\"#DejaVuSans-30\" x=\"286.279297\"/>\n      </g>\n     </g>\n    </g>\n    <g id=\"text_10\">\n     <!-- season -->\n     <g transform=\"translate(190.425 268.034687)scale(0.1 -0.1)\">\n      <defs>\n       <path id=\"DejaVuSans-73\" d=\"M 2834 3397 \nL 2834 2853 \nQ 2591 2978 2328 3040 \nQ 2066 3103 1784 3103 \nQ 1356 3103 1142 2972 \nQ 928 2841 928 2578 \nQ 928 2378 1081 2264 \nQ 1234 2150 1697 2047 \nL 1894 2003 \nQ 2506 1872 2764 1633 \nQ 3022 1394 3022 966 \nQ 3022 478 2636 193 \nQ 2250 -91 1575 -91 \nQ 1294 -91 989 -36 \nQ 684 19 347 128 \nL 347 722 \nQ 666 556 975 473 \nQ 1284 391 1588 391 \nQ 1994 391 2212 530 \nQ 2431 669 2431 922 \nQ 2431 1156 2273 1281 \nQ 2116 1406 1581 1522 \nL 1381 1569 \nQ 847 1681 609 1914 \nQ 372 2147 372 2553 \nQ 372 3047 722 3315 \nQ 1072 3584 1716 3584 \nQ 2034 3584 2315 3537 \nQ 2597 3491 2834 3397 \nz\n\" transform=\"scale(0.015625)\"/>\n       <path id=\"DejaVuSans-65\" d=\"M 3597 1894 \nL 3597 1613 \nL 953 1613 \nQ 991 1019 1311 708 \nQ 1631 397 2203 397 \nQ 2534 397 2845 478 \nQ 3156 559 3463 722 \nL 3463 178 \nQ 3153 47 2828 -22 \nQ 2503 -91 2169 -91 \nQ 1331 -91 842 396 \nQ 353 884 353 1716 \nQ 353 2575 817 3079 \nQ 1281 3584 2069 3584 \nQ 2775 3584 3186 3129 \nQ 3597 2675 3597 1894 \nz\nM 3022 2063 \nQ 3016 2534 2758 2815 \nQ 2500 3097 2075 3097 \nQ 1594 3097 1305 2825 \nQ 1016 2553 972 2059 \nL 3022 2063 \nz\n\" transform=\"scale(0.015625)\"/>\n       <path id=\"DejaVuSans-61\" d=\"M 2194 1759 \nQ 1497 1759 1228 1600 \nQ 959 1441 959 1056 \nQ 959 750 1161 570 \nQ 1363 391 1709 391 \nQ 2188 391 2477 730 \nQ 2766 1069 2766 1631 \nL 2766 1759 \nL 2194 1759 \nz\nM 3341 1997 \nL 3341 0 \nL 2766 0 \nL 2766 531 \nQ 2569 213 2275 61 \nQ 1981 -91 1556 -91 \nQ 1019 -91 701 211 \nQ 384 513 384 1019 \nQ 384 1609 779 1909 \nQ 1175 2209 1959 2209 \nL 2766 2209 \nL 2766 2266 \nQ 2766 2663 2505 2880 \nQ 2244 3097 1772 3097 \nQ 1472 3097 1187 3025 \nQ 903 2953 641 2809 \nL 641 3341 \nQ 956 3463 1253 3523 \nQ 1550 3584 1831 3584 \nQ 2591 3584 2966 3190 \nQ 3341 2797 3341 1997 \nz\n\" transform=\"scale(0.015625)\"/>\n       <path id=\"DejaVuSans-6f\" d=\"M 1959 3097 \nQ 1497 3097 1228 2736 \nQ 959 2375 959 1747 \nQ 959 1119 1226 758 \nQ 1494 397 1959 397 \nQ 2419 397 2687 759 \nQ 2956 1122 2956 1747 \nQ 2956 2369 2687 2733 \nQ 2419 3097 1959 3097 \nz\nM 1959 3584 \nQ 2709 3584 3137 3096 \nQ 3566 2609 3566 1747 \nQ 3566 888 3137 398 \nQ 2709 -91 1959 -91 \nQ 1206 -91 779 398 \nQ 353 888 353 1747 \nQ 353 2609 779 3096 \nQ 1206 3584 1959 3584 \nz\n\" transform=\"scale(0.015625)\"/>\n       <path id=\"DejaVuSans-6e\" d=\"M 3513 2113 \nL 3513 0 \nL 2938 0 \nL 2938 2094 \nQ 2938 2591 2744 2837 \nQ 2550 3084 2163 3084 \nQ 1697 3084 1428 2787 \nQ 1159 2491 1159 1978 \nL 1159 0 \nL 581 0 \nL 581 3500 \nL 1159 3500 \nL 1159 2956 \nQ 1366 3272 1645 3428 \nQ 1925 3584 2291 3584 \nQ 2894 3584 3203 3211 \nQ 3513 2838 3513 2113 \nz\n\" transform=\"scale(0.015625)\"/>\n      </defs>\n      <use xlink:href=\"#DejaVuSans-73\"/>\n      <use xlink:href=\"#DejaVuSans-65\" x=\"52.099609\"/>\n      <use xlink:href=\"#DejaVuSans-61\" x=\"113.623047\"/>\n      <use xlink:href=\"#DejaVuSans-73\" x=\"174.902344\"/>\n      <use xlink:href=\"#DejaVuSans-6f\" x=\"227.001953\"/>\n      <use xlink:href=\"#DejaVuSans-6e\" x=\"288.183594\"/>\n     </g>\n    </g>\n   </g>\n   <g id=\"matplotlib.axis_2\">\n    <g id=\"ytick_1\">\n     <g id=\"line2d_10\">\n      <defs>\n       <path id=\"m76d97769b0\" d=\"M 0 0 \nL -3.5 0 \n\" style=\"stroke: #000000; stroke-width: 0.8\"/>\n      </defs>\n      <g>\n       <use xlink:href=\"#m76d97769b0\" x=\"40.603125\" y=\"207.910852\" style=\"stroke: #000000; stroke-width: 0.8\"/>\n      </g>\n     </g>\n     <g id=\"text_11\">\n      <!-- 14 -->\n      <g transform=\"translate(20.878125 211.710071)scale(0.1 -0.1)\">\n       <defs>\n        <path id=\"DejaVuSans-34\" d=\"M 2419 4116 \nL 825 1625 \nL 2419 1625 \nL 2419 4116 \nz\nM 2253 4666 \nL 3047 4666 \nL 3047 1625 \nL 3713 1625 \nL 3713 1100 \nL 3047 1100 \nL 3047 0 \nL 2419 0 \nL 2419 1100 \nL 313 1100 \nL 313 1709 \nL 2253 4666 \nz\n\" transform=\"scale(0.015625)\"/>\n       </defs>\n       <use xlink:href=\"#DejaVuSans-31\"/>\n       <use xlink:href=\"#DejaVuSans-34\" x=\"63.623047\"/>\n      </g>\n     </g>\n    </g>\n    <g id=\"ytick_2\">\n     <g id=\"line2d_11\">\n      <g>\n       <use xlink:href=\"#m76d97769b0\" x=\"40.603125\" y=\"163.98358\" style=\"stroke: #000000; stroke-width: 0.8\"/>\n      </g>\n     </g>\n     <g id=\"text_12\">\n      <!-- 16 -->\n      <g transform=\"translate(20.878125 167.782798)scale(0.1 -0.1)\">\n       <defs>\n        <path id=\"DejaVuSans-36\" d=\"M 2113 2584 \nQ 1688 2584 1439 2293 \nQ 1191 2003 1191 1497 \nQ 1191 994 1439 701 \nQ 1688 409 2113 409 \nQ 2538 409 2786 701 \nQ 3034 994 3034 1497 \nQ 3034 2003 2786 2293 \nQ 2538 2584 2113 2584 \nz\nM 3366 4563 \nL 3366 3988 \nQ 3128 4100 2886 4159 \nQ 2644 4219 2406 4219 \nQ 1781 4219 1451 3797 \nQ 1122 3375 1075 2522 \nQ 1259 2794 1537 2939 \nQ 1816 3084 2150 3084 \nQ 2853 3084 3261 2657 \nQ 3669 2231 3669 1497 \nQ 3669 778 3244 343 \nQ 2819 -91 2113 -91 \nQ 1303 -91 875 529 \nQ 447 1150 447 2328 \nQ 447 3434 972 4092 \nQ 1497 4750 2381 4750 \nQ 2619 4750 2861 4703 \nQ 3103 4656 3366 4563 \nz\n\" transform=\"scale(0.015625)\"/>\n       </defs>\n       <use xlink:href=\"#DejaVuSans-31\"/>\n       <use xlink:href=\"#DejaVuSans-36\" x=\"63.623047\"/>\n      </g>\n     </g>\n    </g>\n    <g id=\"ytick_3\">\n     <g id=\"line2d_12\">\n      <g>\n       <use xlink:href=\"#m76d97769b0\" x=\"40.603125\" y=\"120.056307\" style=\"stroke: #000000; stroke-width: 0.8\"/>\n      </g>\n     </g>\n     <g id=\"text_13\">\n      <!-- 18 -->\n      <g transform=\"translate(20.878125 123.855526)scale(0.1 -0.1)\">\n       <use xlink:href=\"#DejaVuSans-31\"/>\n       <use xlink:href=\"#DejaVuSans-38\" x=\"63.623047\"/>\n      </g>\n     </g>\n    </g>\n    <g id=\"ytick_4\">\n     <g id=\"line2d_13\">\n      <g>\n       <use xlink:href=\"#m76d97769b0\" x=\"40.603125\" y=\"76.129034\" style=\"stroke: #000000; stroke-width: 0.8\"/>\n      </g>\n     </g>\n     <g id=\"text_14\">\n      <!-- 20 -->\n      <g transform=\"translate(20.878125 79.928253)scale(0.1 -0.1)\">\n       <use xlink:href=\"#DejaVuSans-32\"/>\n       <use xlink:href=\"#DejaVuSans-30\" x=\"63.623047\"/>\n      </g>\n     </g>\n    </g>\n    <g id=\"ytick_5\">\n     <g id=\"line2d_14\">\n      <g>\n       <use xlink:href=\"#m76d97769b0\" x=\"40.603125\" y=\"32.201761\" style=\"stroke: #000000; stroke-width: 0.8\"/>\n      </g>\n     </g>\n     <g id=\"text_15\">\n      <!-- 22 -->\n      <g transform=\"translate(20.878125 36.00098)scale(0.1 -0.1)\">\n       <use xlink:href=\"#DejaVuSans-32\"/>\n       <use xlink:href=\"#DejaVuSans-32\" x=\"63.623047\"/>\n      </g>\n     </g>\n    </g>\n    <g id=\"text_16\">\n     <!-- races -->\n     <g transform=\"translate(14.798438 144.588125)rotate(-90)scale(0.1 -0.1)\">\n      <defs>\n       <path id=\"DejaVuSans-72\" d=\"M 2631 2963 \nQ 2534 3019 2420 3045 \nQ 2306 3072 2169 3072 \nQ 1681 3072 1420 2755 \nQ 1159 2438 1159 1844 \nL 1159 0 \nL 581 0 \nL 581 3500 \nL 1159 3500 \nL 1159 2956 \nQ 1341 3275 1631 3429 \nQ 1922 3584 2338 3584 \nQ 2397 3584 2469 3576 \nQ 2541 3569 2628 3553 \nL 2631 2963 \nz\n\" transform=\"scale(0.015625)\"/>\n       <path id=\"DejaVuSans-63\" d=\"M 3122 3366 \nL 3122 2828 \nQ 2878 2963 2633 3030 \nQ 2388 3097 2138 3097 \nQ 1578 3097 1268 2742 \nQ 959 2388 959 1747 \nQ 959 1106 1268 751 \nQ 1578 397 2138 397 \nQ 2388 397 2633 464 \nQ 2878 531 3122 666 \nL 3122 134 \nQ 2881 22 2623 -34 \nQ 2366 -91 2075 -91 \nQ 1284 -91 818 406 \nQ 353 903 353 1747 \nQ 353 2603 823 3093 \nQ 1294 3584 2113 3584 \nQ 2378 3584 2631 3529 \nQ 2884 3475 3122 3366 \nz\n\" transform=\"scale(0.015625)\"/>\n      </defs>\n      <use xlink:href=\"#DejaVuSans-72\"/>\n      <use xlink:href=\"#DejaVuSans-61\" x=\"41.113281\"/>\n      <use xlink:href=\"#DejaVuSans-63\" x=\"102.392578\"/>\n      <use xlink:href=\"#DejaVuSans-65\" x=\"157.373047\"/>\n      <use xlink:href=\"#DejaVuSans-73\" x=\"218.896484\"/>\n     </g>\n    </g>\n   </g>\n   <g id=\"line2d_15\">\n    <path d=\"M 55.821307 54.165398 \nL 131.912216 54.165398 \nL 208.003125 142.019943 \nL 284.094034 32.201761 \nL 360.184943 229.874489 \n\" clip-path=\"url(#p28090698d4)\" style=\"fill: none; stroke: #1f77b4; stroke-width: 1.5; stroke-linecap: square\"/>\n   </g>\n   <g id=\"patch_3\">\n    <path d=\"M 40.603125 239.758125 \nL 40.603125 22.318125 \n\" style=\"fill: none; stroke: #000000; stroke-width: 0.8; stroke-linejoin: miter; stroke-linecap: square\"/>\n   </g>\n   <g id=\"patch_4\">\n    <path d=\"M 375.403125 239.758125 \nL 375.403125 22.318125 \n\" style=\"fill: none; stroke: #000000; stroke-width: 0.8; stroke-linejoin: miter; stroke-linecap: square\"/>\n   </g>\n   <g id=\"patch_5\">\n    <path d=\"M 40.603125 239.758125 \nL 375.403125 239.758125 \n\" style=\"fill: none; stroke: #000000; stroke-width: 0.8; stroke-linejoin: miter; stroke-linecap: square\"/>\n   </g>\n   <g id=\"patch_6\">\n    <path d=\"M 40.603125 22.318125 \nL 375.403125 22.318125 \n\" style=\"fill: none; stroke: #000000; stroke-width: 0.8; stroke-linejoin: miter; stroke-linecap: square\"/>\n   </g>\n   <g id=\"text_17\">\n    <!-- leclerc's F1 Race Starts -->\n    <g transform=\"translate(138.107812 16.318125)scale(0.12 -0.12)\">\n     <defs>\n      <path id=\"DejaVuSans-6c\" d=\"M 603 4863 \nL 1178 4863 \nL 1178 0 \nL 603 0 \nL 603 4863 \nz\n\" transform=\"scale(0.015625)\"/>\n      <path id=\"DejaVuSans-27\" d=\"M 1147 4666 \nL 1147 2931 \nL 616 2931 \nL 616 4666 \nL 1147 4666 \nz\n\" transform=\"scale(0.015625)\"/>\n      <path id=\"DejaVuSans-20\" transform=\"scale(0.015625)\"/>\n      <path id=\"DejaVuSans-46\" d=\"M 628 4666 \nL 3309 4666 \nL 3309 4134 \nL 1259 4134 \nL 1259 2759 \nL 3109 2759 \nL 3109 2228 \nL 1259 2228 \nL 1259 0 \nL 628 0 \nL 628 4666 \nz\n\" transform=\"scale(0.015625)\"/>\n      <path id=\"DejaVuSans-52\" d=\"M 2841 2188 \nQ 3044 2119 3236 1894 \nQ 3428 1669 3622 1275 \nL 4263 0 \nL 3584 0 \nL 2988 1197 \nQ 2756 1666 2539 1819 \nQ 2322 1972 1947 1972 \nL 1259 1972 \nL 1259 0 \nL 628 0 \nL 628 4666 \nL 2053 4666 \nQ 2853 4666 3247 4331 \nQ 3641 3997 3641 3322 \nQ 3641 2881 3436 2590 \nQ 3231 2300 2841 2188 \nz\nM 1259 4147 \nL 1259 2491 \nL 2053 2491 \nQ 2509 2491 2742 2702 \nQ 2975 2913 2975 3322 \nQ 2975 3731 2742 3939 \nQ 2509 4147 2053 4147 \nL 1259 4147 \nz\n\" transform=\"scale(0.015625)\"/>\n      <path id=\"DejaVuSans-53\" d=\"M 3425 4513 \nL 3425 3897 \nQ 3066 4069 2747 4153 \nQ 2428 4238 2131 4238 \nQ 1616 4238 1336 4038 \nQ 1056 3838 1056 3469 \nQ 1056 3159 1242 3001 \nQ 1428 2844 1947 2747 \nL 2328 2669 \nQ 3034 2534 3370 2195 \nQ 3706 1856 3706 1288 \nQ 3706 609 3251 259 \nQ 2797 -91 1919 -91 \nQ 1588 -91 1214 -16 \nQ 841 59 441 206 \nL 441 856 \nQ 825 641 1194 531 \nQ 1563 422 1919 422 \nQ 2459 422 2753 634 \nQ 3047 847 3047 1241 \nQ 3047 1584 2836 1778 \nQ 2625 1972 2144 2069 \nL 1759 2144 \nQ 1053 2284 737 2584 \nQ 422 2884 422 3419 \nQ 422 4038 858 4394 \nQ 1294 4750 2059 4750 \nQ 2388 4750 2728 4690 \nQ 3069 4631 3425 4513 \nz\n\" transform=\"scale(0.015625)\"/>\n      <path id=\"DejaVuSans-74\" d=\"M 1172 4494 \nL 1172 3500 \nL 2356 3500 \nL 2356 3053 \nL 1172 3053 \nL 1172 1153 \nQ 1172 725 1289 603 \nQ 1406 481 1766 481 \nL 2356 481 \nL 2356 0 \nL 1766 0 \nQ 1100 0 847 248 \nQ 594 497 594 1153 \nL 594 3053 \nL 172 3053 \nL 172 3500 \nL 594 3500 \nL 594 4494 \nL 1172 4494 \nz\n\" transform=\"scale(0.015625)\"/>\n     </defs>\n     <use xlink:href=\"#DejaVuSans-6c\"/>\n     <use xlink:href=\"#DejaVuSans-65\" x=\"27.783203\"/>\n     <use xlink:href=\"#DejaVuSans-63\" x=\"89.306641\"/>\n     <use xlink:href=\"#DejaVuSans-6c\" x=\"144.287109\"/>\n     <use xlink:href=\"#DejaVuSans-65\" x=\"172.070312\"/>\n     <use xlink:href=\"#DejaVuSans-72\" x=\"233.59375\"/>\n     <use xlink:href=\"#DejaVuSans-63\" x=\"272.457031\"/>\n     <use xlink:href=\"#DejaVuSans-27\" x=\"327.4375\"/>\n     <use xlink:href=\"#DejaVuSans-73\" x=\"354.927734\"/>\n     <use xlink:href=\"#DejaVuSans-20\" x=\"407.027344\"/>\n     <use xlink:href=\"#DejaVuSans-46\" x=\"438.814453\"/>\n     <use xlink:href=\"#DejaVuSans-31\" x=\"496.333984\"/>\n     <use xlink:href=\"#DejaVuSans-20\" x=\"559.957031\"/>\n     <use xlink:href=\"#DejaVuSans-52\" x=\"591.744141\"/>\n     <use xlink:href=\"#DejaVuSans-61\" x=\"658.976562\"/>\n     <use xlink:href=\"#DejaVuSans-63\" x=\"720.255859\"/>\n     <use xlink:href=\"#DejaVuSans-65\" x=\"775.236328\"/>\n     <use xlink:href=\"#DejaVuSans-20\" x=\"836.759766\"/>\n     <use xlink:href=\"#DejaVuSans-53\" x=\"868.546875\"/>\n     <use xlink:href=\"#DejaVuSans-74\" x=\"932.023438\"/>\n     <use xlink:href=\"#DejaVuSans-61\" x=\"971.232422\"/>\n     <use xlink:href=\"#DejaVuSans-72\" x=\"1032.511719\"/>\n     <use xlink:href=\"#DejaVuSans-74\" x=\"1073.625\"/>\n     <use xlink:href=\"#DejaVuSans-73\" x=\"1112.833984\"/>\n    </g>\n   </g>\n   <g id=\"legend_1\">\n    <g id=\"patch_7\">\n     <path d=\"M 303.657812 59.674375 \nL 368.403125 59.674375 \nQ 370.403125 59.674375 370.403125 57.674375 \nL 370.403125 29.318125 \nQ 370.403125 27.318125 368.403125 27.318125 \nL 303.657812 27.318125 \nQ 301.657812 27.318125 301.657812 29.318125 \nL 301.657812 57.674375 \nQ 301.657812 59.674375 303.657812 59.674375 \nz\n\" style=\"fill: #ffffff; opacity: 0.8; stroke: #cccccc; stroke-linejoin: miter\"/>\n    </g>\n    <g id=\"text_18\">\n     <!-- driver -->\n     <g transform=\"translate(321.320312 38.916562)scale(0.1 -0.1)\">\n      <defs>\n       <path id=\"DejaVuSans-64\" d=\"M 2906 2969 \nL 2906 4863 \nL 3481 4863 \nL 3481 0 \nL 2906 0 \nL 2906 525 \nQ 2725 213 2448 61 \nQ 2172 -91 1784 -91 \nQ 1150 -91 751 415 \nQ 353 922 353 1747 \nQ 353 2572 751 3078 \nQ 1150 3584 1784 3584 \nQ 2172 3584 2448 3432 \nQ 2725 3281 2906 2969 \nz\nM 947 1747 \nQ 947 1113 1208 752 \nQ 1469 391 1925 391 \nQ 2381 391 2643 752 \nQ 2906 1113 2906 1747 \nQ 2906 2381 2643 2742 \nQ 2381 3103 1925 3103 \nQ 1469 3103 1208 2742 \nQ 947 2381 947 1747 \nz\n\" transform=\"scale(0.015625)\"/>\n       <path id=\"DejaVuSans-69\" d=\"M 603 3500 \nL 1178 3500 \nL 1178 0 \nL 603 0 \nL 603 3500 \nz\nM 603 4863 \nL 1178 4863 \nL 1178 4134 \nL 603 4134 \nL 603 4863 \nz\n\" transform=\"scale(0.015625)\"/>\n       <path id=\"DejaVuSans-76\" d=\"M 191 3500 \nL 800 3500 \nL 1894 563 \nL 2988 3500 \nL 3597 3500 \nL 2284 0 \nL 1503 0 \nL 191 3500 \nz\n\" transform=\"scale(0.015625)\"/>\n      </defs>\n      <use xlink:href=\"#DejaVuSans-64\"/>\n      <use xlink:href=\"#DejaVuSans-72\" x=\"63.476562\"/>\n      <use xlink:href=\"#DejaVuSans-69\" x=\"104.589844\"/>\n      <use xlink:href=\"#DejaVuSans-76\" x=\"132.373047\"/>\n      <use xlink:href=\"#DejaVuSans-65\" x=\"191.552734\"/>\n      <use xlink:href=\"#DejaVuSans-72\" x=\"253.076172\"/>\n     </g>\n    </g>\n    <g id=\"line2d_16\">\n     <path d=\"M 305.657812 50.094687 \nL 315.657812 50.094687 \nL 325.657812 50.094687 \n\" style=\"fill: none; stroke: #1f77b4; stroke-width: 1.5; stroke-linecap: square\"/>\n    </g>\n    <g id=\"text_19\">\n     <!-- leclerc -->\n     <g transform=\"translate(333.657812 53.594687)scale(0.1 -0.1)\">\n      <use xlink:href=\"#DejaVuSans-6c\"/>\n      <use xlink:href=\"#DejaVuSans-65\" x=\"27.783203\"/>\n      <use xlink:href=\"#DejaVuSans-63\" x=\"89.306641\"/>\n      <use xlink:href=\"#DejaVuSans-6c\" x=\"144.287109\"/>\n      <use xlink:href=\"#DejaVuSans-65\" x=\"172.070312\"/>\n      <use xlink:href=\"#DejaVuSans-72\" x=\"233.59375\"/>\n      <use xlink:href=\"#DejaVuSans-63\" x=\"272.457031\"/>\n     </g>\n    </g>\n   </g>\n  </g>\n </g>\n <defs>\n  <clipPath id=\"p28090698d4\">\n   <rect x=\"40.603125\" y=\"22.318125\" width=\"334.8\" height=\"217.44\"/>\n  </clipPath>\n </defs>\n</svg>\n",
      "text/plain": [
       "<Figure size 432x288 with 1 Axes>"
      ]
     },
     "metadata": {
      "needs_background": "light"
     },
     "output_type": "display_data"
    }
   ],
   "source": [
    "plot_data_start.plot(title=f\"{driver}'s F1 Race Starts\", ylabel=\"races\")"
   ]
  },
  {
   "cell_type": "markdown",
   "metadata": {},
   "source": [
    "### Combine the plots"
   ]
  },
  {
   "cell_type": "code",
   "execution_count": 182,
   "metadata": {},
   "outputs": [
    {
     "data": {
      "text/html": [
       "<div>\n",
       "<style scoped>\n",
       "    .dataframe tbody tr th:only-of-type {\n",
       "        vertical-align: middle;\n",
       "    }\n",
       "\n",
       "    .dataframe tbody tr th {\n",
       "        vertical-align: top;\n",
       "    }\n",
       "\n",
       "    .dataframe thead th {\n",
       "        text-align: right;\n",
       "    }\n",
       "</style>\n",
       "<table border=\"1\" class=\"dataframe\">\n",
       "  <thead>\n",
       "    <tr style=\"text-align: right;\">\n",
       "      <th>driver</th>\n",
       "      <th>starts</th>\n",
       "      <th>wins</th>\n",
       "    </tr>\n",
       "    <tr>\n",
       "      <th>season</th>\n",
       "      <th></th>\n",
       "      <th></th>\n",
       "    </tr>\n",
       "  </thead>\n",
       "  <tbody>\n",
       "    <tr>\n",
       "      <th>2018</th>\n",
       "      <td>21</td>\n",
       "      <td>0</td>\n",
       "    </tr>\n",
       "    <tr>\n",
       "      <th>2019</th>\n",
       "      <td>21</td>\n",
       "      <td>2</td>\n",
       "    </tr>\n",
       "    <tr>\n",
       "      <th>2020</th>\n",
       "      <td>17</td>\n",
       "      <td>0</td>\n",
       "    </tr>\n",
       "    <tr>\n",
       "      <th>2021</th>\n",
       "      <td>22</td>\n",
       "      <td>0</td>\n",
       "    </tr>\n",
       "    <tr>\n",
       "      <th>2022</th>\n",
       "      <td>13</td>\n",
       "      <td>3</td>\n",
       "    </tr>\n",
       "  </tbody>\n",
       "</table>\n",
       "</div>"
      ],
      "text/plain": [
       "driver  starts  wins\n",
       "season              \n",
       "2018        21     0\n",
       "2019        21     2\n",
       "2020        17     0\n",
       "2021        22     0\n",
       "2022        13     3"
      ]
     },
     "execution_count": 182,
     "metadata": {},
     "output_type": "execute_result"
    }
   ],
   "source": [
    "from functools import reduce\n",
    "\n",
    "plot_data = reduce(lambda  left,right: pd.merge(left,right,on=[\"season\"], how='inner'), [plot_data_start, plot_data_wins])\n",
    "plot_data.rename(\n",
    "    columns={\n",
    "        f\"{driver}_x\": \"starts\",\n",
    "        f\"{driver}_y\": \"wins\"\n",
    "    }, inplace=True)\n",
    "plot_data.head()"
   ]
  },
  {
   "cell_type": "code",
   "execution_count": 183,
   "metadata": {},
   "outputs": [
    {
     "data": {
      "text/plain": [
       "<AxesSubplot:title={'center':\"leclerc's F1 Career\"}, xlabel='season', ylabel='races'>"
      ]
     },
     "execution_count": 183,
     "metadata": {},
     "output_type": "execute_result"
    },
    {
     "data": {
      "image/svg+xml": "<?xml version=\"1.0\" encoding=\"utf-8\" standalone=\"no\"?>\n<!DOCTYPE svg PUBLIC \"-//W3C//DTD SVG 1.1//EN\"\n  \"http://www.w3.org/Graphics/SVG/1.1/DTD/svg11.dtd\">\n<svg xmlns:xlink=\"http://www.w3.org/1999/xlink\" width=\"384.880256pt\" height=\"277.314375pt\" viewBox=\"0 0 384.880256 277.314375\" xmlns=\"http://www.w3.org/2000/svg\" version=\"1.1\">\n <metadata>\n  <rdf:RDF xmlns:dc=\"http://purl.org/dc/elements/1.1/\" xmlns:cc=\"http://creativecommons.org/ns#\" xmlns:rdf=\"http://www.w3.org/1999/02/22-rdf-syntax-ns#\">\n   <cc:Work>\n    <dc:type rdf:resource=\"http://purl.org/dc/dcmitype/StillImage\"/>\n    <dc:date>2022-08-03T21:05:50.406414</dc:date>\n    <dc:format>image/svg+xml</dc:format>\n    <dc:creator>\n     <cc:Agent>\n      <dc:title>Matplotlib v3.5.2, https://matplotlib.org/</dc:title>\n     </cc:Agent>\n    </dc:creator>\n   </cc:Work>\n  </rdf:RDF>\n </metadata>\n <defs>\n  <style type=\"text/css\">*{stroke-linejoin: round; stroke-linecap: butt}</style>\n </defs>\n <g id=\"figure_1\">\n  <g id=\"patch_1\">\n   <path d=\"M 0 277.314375 \nL 384.880256 277.314375 \nL 384.880256 0 \nL 0 0 \nL 0 277.314375 \nz\n\" style=\"fill: none\"/>\n  </g>\n  <g id=\"axes_1\">\n   <g id=\"patch_2\">\n    <path d=\"M 40.603125 239.758125 \nL 375.403125 239.758125 \nL 375.403125 22.318125 \nL 40.603125 22.318125 \nz\n\" style=\"fill: #ffffff\"/>\n   </g>\n   <g id=\"matplotlib.axis_1\">\n    <g id=\"xtick_1\">\n     <g id=\"line2d_1\">\n      <defs>\n       <path id=\"m0dd6b767c0\" d=\"M 0 0 \nL 0 3.5 \n\" style=\"stroke: #000000; stroke-width: 0.8\"/>\n      </defs>\n      <g>\n       <use xlink:href=\"#m0dd6b767c0\" x=\"55.821307\" y=\"239.758125\" style=\"stroke: #000000; stroke-width: 0.8\"/>\n      </g>\n     </g>\n     <g id=\"text_1\">\n      <!-- 2018.0 -->\n      <g transform=\"translate(38.325994 254.356562)scale(0.1 -0.1)\">\n       <defs>\n        <path id=\"DejaVuSans-32\" d=\"M 1228 531 \nL 3431 531 \nL 3431 0 \nL 469 0 \nL 469 531 \nQ 828 903 1448 1529 \nQ 2069 2156 2228 2338 \nQ 2531 2678 2651 2914 \nQ 2772 3150 2772 3378 \nQ 2772 3750 2511 3984 \nQ 2250 4219 1831 4219 \nQ 1534 4219 1204 4116 \nQ 875 4013 500 3803 \nL 500 4441 \nQ 881 4594 1212 4672 \nQ 1544 4750 1819 4750 \nQ 2544 4750 2975 4387 \nQ 3406 4025 3406 3419 \nQ 3406 3131 3298 2873 \nQ 3191 2616 2906 2266 \nQ 2828 2175 2409 1742 \nQ 1991 1309 1228 531 \nz\n\" transform=\"scale(0.015625)\"/>\n        <path id=\"DejaVuSans-30\" d=\"M 2034 4250 \nQ 1547 4250 1301 3770 \nQ 1056 3291 1056 2328 \nQ 1056 1369 1301 889 \nQ 1547 409 2034 409 \nQ 2525 409 2770 889 \nQ 3016 1369 3016 2328 \nQ 3016 3291 2770 3770 \nQ 2525 4250 2034 4250 \nz\nM 2034 4750 \nQ 2819 4750 3233 4129 \nQ 3647 3509 3647 2328 \nQ 3647 1150 3233 529 \nQ 2819 -91 2034 -91 \nQ 1250 -91 836 529 \nQ 422 1150 422 2328 \nQ 422 3509 836 4129 \nQ 1250 4750 2034 4750 \nz\n\" transform=\"scale(0.015625)\"/>\n        <path id=\"DejaVuSans-31\" d=\"M 794 531 \nL 1825 531 \nL 1825 4091 \nL 703 3866 \nL 703 4441 \nL 1819 4666 \nL 2450 4666 \nL 2450 531 \nL 3481 531 \nL 3481 0 \nL 794 0 \nL 794 531 \nz\n\" transform=\"scale(0.015625)\"/>\n        <path id=\"DejaVuSans-38\" d=\"M 2034 2216 \nQ 1584 2216 1326 1975 \nQ 1069 1734 1069 1313 \nQ 1069 891 1326 650 \nQ 1584 409 2034 409 \nQ 2484 409 2743 651 \nQ 3003 894 3003 1313 \nQ 3003 1734 2745 1975 \nQ 2488 2216 2034 2216 \nz\nM 1403 2484 \nQ 997 2584 770 2862 \nQ 544 3141 544 3541 \nQ 544 4100 942 4425 \nQ 1341 4750 2034 4750 \nQ 2731 4750 3128 4425 \nQ 3525 4100 3525 3541 \nQ 3525 3141 3298 2862 \nQ 3072 2584 2669 2484 \nQ 3125 2378 3379 2068 \nQ 3634 1759 3634 1313 \nQ 3634 634 3220 271 \nQ 2806 -91 2034 -91 \nQ 1263 -91 848 271 \nQ 434 634 434 1313 \nQ 434 1759 690 2068 \nQ 947 2378 1403 2484 \nz\nM 1172 3481 \nQ 1172 3119 1398 2916 \nQ 1625 2713 2034 2713 \nQ 2441 2713 2670 2916 \nQ 2900 3119 2900 3481 \nQ 2900 3844 2670 4047 \nQ 2441 4250 2034 4250 \nQ 1625 4250 1398 4047 \nQ 1172 3844 1172 3481 \nz\n\" transform=\"scale(0.015625)\"/>\n        <path id=\"DejaVuSans-2e\" d=\"M 684 794 \nL 1344 794 \nL 1344 0 \nL 684 0 \nL 684 794 \nz\n\" transform=\"scale(0.015625)\"/>\n       </defs>\n       <use xlink:href=\"#DejaVuSans-32\"/>\n       <use xlink:href=\"#DejaVuSans-30\" x=\"63.623047\"/>\n       <use xlink:href=\"#DejaVuSans-31\" x=\"127.246094\"/>\n       <use xlink:href=\"#DejaVuSans-38\" x=\"190.869141\"/>\n       <use xlink:href=\"#DejaVuSans-2e\" x=\"254.492188\"/>\n       <use xlink:href=\"#DejaVuSans-30\" x=\"286.279297\"/>\n      </g>\n     </g>\n    </g>\n    <g id=\"xtick_2\">\n     <g id=\"line2d_2\">\n      <g>\n       <use xlink:href=\"#m0dd6b767c0\" x=\"93.866761\" y=\"239.758125\" style=\"stroke: #000000; stroke-width: 0.8\"/>\n      </g>\n     </g>\n     <g id=\"text_2\">\n      <!-- 2018.5 -->\n      <g transform=\"translate(76.371449 254.356562)scale(0.1 -0.1)\">\n       <defs>\n        <path id=\"DejaVuSans-35\" d=\"M 691 4666 \nL 3169 4666 \nL 3169 4134 \nL 1269 4134 \nL 1269 2991 \nQ 1406 3038 1543 3061 \nQ 1681 3084 1819 3084 \nQ 2600 3084 3056 2656 \nQ 3513 2228 3513 1497 \nQ 3513 744 3044 326 \nQ 2575 -91 1722 -91 \nQ 1428 -91 1123 -41 \nQ 819 9 494 109 \nL 494 744 \nQ 775 591 1075 516 \nQ 1375 441 1709 441 \nQ 2250 441 2565 725 \nQ 2881 1009 2881 1497 \nQ 2881 1984 2565 2268 \nQ 2250 2553 1709 2553 \nQ 1456 2553 1204 2497 \nQ 953 2441 691 2322 \nL 691 4666 \nz\n\" transform=\"scale(0.015625)\"/>\n       </defs>\n       <use xlink:href=\"#DejaVuSans-32\"/>\n       <use xlink:href=\"#DejaVuSans-30\" x=\"63.623047\"/>\n       <use xlink:href=\"#DejaVuSans-31\" x=\"127.246094\"/>\n       <use xlink:href=\"#DejaVuSans-38\" x=\"190.869141\"/>\n       <use xlink:href=\"#DejaVuSans-2e\" x=\"254.492188\"/>\n       <use xlink:href=\"#DejaVuSans-35\" x=\"286.279297\"/>\n      </g>\n     </g>\n    </g>\n    <g id=\"xtick_3\">\n     <g id=\"line2d_3\">\n      <g>\n       <use xlink:href=\"#m0dd6b767c0\" x=\"131.912216\" y=\"239.758125\" style=\"stroke: #000000; stroke-width: 0.8\"/>\n      </g>\n     </g>\n     <g id=\"text_3\">\n      <!-- 2019.0 -->\n      <g transform=\"translate(114.416903 254.356562)scale(0.1 -0.1)\">\n       <defs>\n        <path id=\"DejaVuSans-39\" d=\"M 703 97 \nL 703 672 \nQ 941 559 1184 500 \nQ 1428 441 1663 441 \nQ 2288 441 2617 861 \nQ 2947 1281 2994 2138 \nQ 2813 1869 2534 1725 \nQ 2256 1581 1919 1581 \nQ 1219 1581 811 2004 \nQ 403 2428 403 3163 \nQ 403 3881 828 4315 \nQ 1253 4750 1959 4750 \nQ 2769 4750 3195 4129 \nQ 3622 3509 3622 2328 \nQ 3622 1225 3098 567 \nQ 2575 -91 1691 -91 \nQ 1453 -91 1209 -44 \nQ 966 3 703 97 \nz\nM 1959 2075 \nQ 2384 2075 2632 2365 \nQ 2881 2656 2881 3163 \nQ 2881 3666 2632 3958 \nQ 2384 4250 1959 4250 \nQ 1534 4250 1286 3958 \nQ 1038 3666 1038 3163 \nQ 1038 2656 1286 2365 \nQ 1534 2075 1959 2075 \nz\n\" transform=\"scale(0.015625)\"/>\n       </defs>\n       <use xlink:href=\"#DejaVuSans-32\"/>\n       <use xlink:href=\"#DejaVuSans-30\" x=\"63.623047\"/>\n       <use xlink:href=\"#DejaVuSans-31\" x=\"127.246094\"/>\n       <use xlink:href=\"#DejaVuSans-39\" x=\"190.869141\"/>\n       <use xlink:href=\"#DejaVuSans-2e\" x=\"254.492188\"/>\n       <use xlink:href=\"#DejaVuSans-30\" x=\"286.279297\"/>\n      </g>\n     </g>\n    </g>\n    <g id=\"xtick_4\">\n     <g id=\"line2d_4\">\n      <g>\n       <use xlink:href=\"#m0dd6b767c0\" x=\"169.95767\" y=\"239.758125\" style=\"stroke: #000000; stroke-width: 0.8\"/>\n      </g>\n     </g>\n     <g id=\"text_4\">\n      <!-- 2019.5 -->\n      <g transform=\"translate(152.462358 254.356562)scale(0.1 -0.1)\">\n       <use xlink:href=\"#DejaVuSans-32\"/>\n       <use xlink:href=\"#DejaVuSans-30\" x=\"63.623047\"/>\n       <use xlink:href=\"#DejaVuSans-31\" x=\"127.246094\"/>\n       <use xlink:href=\"#DejaVuSans-39\" x=\"190.869141\"/>\n       <use xlink:href=\"#DejaVuSans-2e\" x=\"254.492188\"/>\n       <use xlink:href=\"#DejaVuSans-35\" x=\"286.279297\"/>\n      </g>\n     </g>\n    </g>\n    <g id=\"xtick_5\">\n     <g id=\"line2d_5\">\n      <g>\n       <use xlink:href=\"#m0dd6b767c0\" x=\"208.003125\" y=\"239.758125\" style=\"stroke: #000000; stroke-width: 0.8\"/>\n      </g>\n     </g>\n     <g id=\"text_5\">\n      <!-- 2020.0 -->\n      <g transform=\"translate(190.507812 254.356562)scale(0.1 -0.1)\">\n       <use xlink:href=\"#DejaVuSans-32\"/>\n       <use xlink:href=\"#DejaVuSans-30\" x=\"63.623047\"/>\n       <use xlink:href=\"#DejaVuSans-32\" x=\"127.246094\"/>\n       <use xlink:href=\"#DejaVuSans-30\" x=\"190.869141\"/>\n       <use xlink:href=\"#DejaVuSans-2e\" x=\"254.492188\"/>\n       <use xlink:href=\"#DejaVuSans-30\" x=\"286.279297\"/>\n      </g>\n     </g>\n    </g>\n    <g id=\"xtick_6\">\n     <g id=\"line2d_6\">\n      <g>\n       <use xlink:href=\"#m0dd6b767c0\" x=\"246.04858\" y=\"239.758125\" style=\"stroke: #000000; stroke-width: 0.8\"/>\n      </g>\n     </g>\n     <g id=\"text_6\">\n      <!-- 2020.5 -->\n      <g transform=\"translate(228.553267 254.356562)scale(0.1 -0.1)\">\n       <use xlink:href=\"#DejaVuSans-32\"/>\n       <use xlink:href=\"#DejaVuSans-30\" x=\"63.623047\"/>\n       <use xlink:href=\"#DejaVuSans-32\" x=\"127.246094\"/>\n       <use xlink:href=\"#DejaVuSans-30\" x=\"190.869141\"/>\n       <use xlink:href=\"#DejaVuSans-2e\" x=\"254.492188\"/>\n       <use xlink:href=\"#DejaVuSans-35\" x=\"286.279297\"/>\n      </g>\n     </g>\n    </g>\n    <g id=\"xtick_7\">\n     <g id=\"line2d_7\">\n      <g>\n       <use xlink:href=\"#m0dd6b767c0\" x=\"284.094034\" y=\"239.758125\" style=\"stroke: #000000; stroke-width: 0.8\"/>\n      </g>\n     </g>\n     <g id=\"text_7\">\n      <!-- 2021.0 -->\n      <g transform=\"translate(266.598722 254.356562)scale(0.1 -0.1)\">\n       <use xlink:href=\"#DejaVuSans-32\"/>\n       <use xlink:href=\"#DejaVuSans-30\" x=\"63.623047\"/>\n       <use xlink:href=\"#DejaVuSans-32\" x=\"127.246094\"/>\n       <use xlink:href=\"#DejaVuSans-31\" x=\"190.869141\"/>\n       <use xlink:href=\"#DejaVuSans-2e\" x=\"254.492188\"/>\n       <use xlink:href=\"#DejaVuSans-30\" x=\"286.279297\"/>\n      </g>\n     </g>\n    </g>\n    <g id=\"xtick_8\">\n     <g id=\"line2d_8\">\n      <g>\n       <use xlink:href=\"#m0dd6b767c0\" x=\"322.139489\" y=\"239.758125\" style=\"stroke: #000000; stroke-width: 0.8\"/>\n      </g>\n     </g>\n     <g id=\"text_8\">\n      <!-- 2021.5 -->\n      <g transform=\"translate(304.644176 254.356562)scale(0.1 -0.1)\">\n       <use xlink:href=\"#DejaVuSans-32\"/>\n       <use xlink:href=\"#DejaVuSans-30\" x=\"63.623047\"/>\n       <use xlink:href=\"#DejaVuSans-32\" x=\"127.246094\"/>\n       <use xlink:href=\"#DejaVuSans-31\" x=\"190.869141\"/>\n       <use xlink:href=\"#DejaVuSans-2e\" x=\"254.492188\"/>\n       <use xlink:href=\"#DejaVuSans-35\" x=\"286.279297\"/>\n      </g>\n     </g>\n    </g>\n    <g id=\"xtick_9\">\n     <g id=\"line2d_9\">\n      <g>\n       <use xlink:href=\"#m0dd6b767c0\" x=\"360.184943\" y=\"239.758125\" style=\"stroke: #000000; stroke-width: 0.8\"/>\n      </g>\n     </g>\n     <g id=\"text_9\">\n      <!-- 2022.0 -->\n      <g transform=\"translate(342.689631 254.356562)scale(0.1 -0.1)\">\n       <use xlink:href=\"#DejaVuSans-32\"/>\n       <use xlink:href=\"#DejaVuSans-30\" x=\"63.623047\"/>\n       <use xlink:href=\"#DejaVuSans-32\" x=\"127.246094\"/>\n       <use xlink:href=\"#DejaVuSans-32\" x=\"190.869141\"/>\n       <use xlink:href=\"#DejaVuSans-2e\" x=\"254.492188\"/>\n       <use xlink:href=\"#DejaVuSans-30\" x=\"286.279297\"/>\n      </g>\n     </g>\n    </g>\n    <g id=\"text_10\">\n     <!-- season -->\n     <g transform=\"translate(190.425 268.034687)scale(0.1 -0.1)\">\n      <defs>\n       <path id=\"DejaVuSans-73\" d=\"M 2834 3397 \nL 2834 2853 \nQ 2591 2978 2328 3040 \nQ 2066 3103 1784 3103 \nQ 1356 3103 1142 2972 \nQ 928 2841 928 2578 \nQ 928 2378 1081 2264 \nQ 1234 2150 1697 2047 \nL 1894 2003 \nQ 2506 1872 2764 1633 \nQ 3022 1394 3022 966 \nQ 3022 478 2636 193 \nQ 2250 -91 1575 -91 \nQ 1294 -91 989 -36 \nQ 684 19 347 128 \nL 347 722 \nQ 666 556 975 473 \nQ 1284 391 1588 391 \nQ 1994 391 2212 530 \nQ 2431 669 2431 922 \nQ 2431 1156 2273 1281 \nQ 2116 1406 1581 1522 \nL 1381 1569 \nQ 847 1681 609 1914 \nQ 372 2147 372 2553 \nQ 372 3047 722 3315 \nQ 1072 3584 1716 3584 \nQ 2034 3584 2315 3537 \nQ 2597 3491 2834 3397 \nz\n\" transform=\"scale(0.015625)\"/>\n       <path id=\"DejaVuSans-65\" d=\"M 3597 1894 \nL 3597 1613 \nL 953 1613 \nQ 991 1019 1311 708 \nQ 1631 397 2203 397 \nQ 2534 397 2845 478 \nQ 3156 559 3463 722 \nL 3463 178 \nQ 3153 47 2828 -22 \nQ 2503 -91 2169 -91 \nQ 1331 -91 842 396 \nQ 353 884 353 1716 \nQ 353 2575 817 3079 \nQ 1281 3584 2069 3584 \nQ 2775 3584 3186 3129 \nQ 3597 2675 3597 1894 \nz\nM 3022 2063 \nQ 3016 2534 2758 2815 \nQ 2500 3097 2075 3097 \nQ 1594 3097 1305 2825 \nQ 1016 2553 972 2059 \nL 3022 2063 \nz\n\" transform=\"scale(0.015625)\"/>\n       <path id=\"DejaVuSans-61\" d=\"M 2194 1759 \nQ 1497 1759 1228 1600 \nQ 959 1441 959 1056 \nQ 959 750 1161 570 \nQ 1363 391 1709 391 \nQ 2188 391 2477 730 \nQ 2766 1069 2766 1631 \nL 2766 1759 \nL 2194 1759 \nz\nM 3341 1997 \nL 3341 0 \nL 2766 0 \nL 2766 531 \nQ 2569 213 2275 61 \nQ 1981 -91 1556 -91 \nQ 1019 -91 701 211 \nQ 384 513 384 1019 \nQ 384 1609 779 1909 \nQ 1175 2209 1959 2209 \nL 2766 2209 \nL 2766 2266 \nQ 2766 2663 2505 2880 \nQ 2244 3097 1772 3097 \nQ 1472 3097 1187 3025 \nQ 903 2953 641 2809 \nL 641 3341 \nQ 956 3463 1253 3523 \nQ 1550 3584 1831 3584 \nQ 2591 3584 2966 3190 \nQ 3341 2797 3341 1997 \nz\n\" transform=\"scale(0.015625)\"/>\n       <path id=\"DejaVuSans-6f\" d=\"M 1959 3097 \nQ 1497 3097 1228 2736 \nQ 959 2375 959 1747 \nQ 959 1119 1226 758 \nQ 1494 397 1959 397 \nQ 2419 397 2687 759 \nQ 2956 1122 2956 1747 \nQ 2956 2369 2687 2733 \nQ 2419 3097 1959 3097 \nz\nM 1959 3584 \nQ 2709 3584 3137 3096 \nQ 3566 2609 3566 1747 \nQ 3566 888 3137 398 \nQ 2709 -91 1959 -91 \nQ 1206 -91 779 398 \nQ 353 888 353 1747 \nQ 353 2609 779 3096 \nQ 1206 3584 1959 3584 \nz\n\" transform=\"scale(0.015625)\"/>\n       <path id=\"DejaVuSans-6e\" d=\"M 3513 2113 \nL 3513 0 \nL 2938 0 \nL 2938 2094 \nQ 2938 2591 2744 2837 \nQ 2550 3084 2163 3084 \nQ 1697 3084 1428 2787 \nQ 1159 2491 1159 1978 \nL 1159 0 \nL 581 0 \nL 581 3500 \nL 1159 3500 \nL 1159 2956 \nQ 1366 3272 1645 3428 \nQ 1925 3584 2291 3584 \nQ 2894 3584 3203 3211 \nQ 3513 2838 3513 2113 \nz\n\" transform=\"scale(0.015625)\"/>\n      </defs>\n      <use xlink:href=\"#DejaVuSans-73\"/>\n      <use xlink:href=\"#DejaVuSans-65\" x=\"52.099609\"/>\n      <use xlink:href=\"#DejaVuSans-61\" x=\"113.623047\"/>\n      <use xlink:href=\"#DejaVuSans-73\" x=\"174.902344\"/>\n      <use xlink:href=\"#DejaVuSans-6f\" x=\"227.001953\"/>\n      <use xlink:href=\"#DejaVuSans-6e\" x=\"288.183594\"/>\n     </g>\n    </g>\n   </g>\n   <g id=\"matplotlib.axis_2\">\n    <g id=\"ytick_1\">\n     <g id=\"line2d_10\">\n      <defs>\n       <path id=\"mc655238ebe\" d=\"M 0 0 \nL -3.5 0 \n\" style=\"stroke: #000000; stroke-width: 0.8\"/>\n      </defs>\n      <g>\n       <use xlink:href=\"#mc655238ebe\" x=\"40.603125\" y=\"229.874489\" style=\"stroke: #000000; stroke-width: 0.8\"/>\n      </g>\n     </g>\n     <g id=\"text_11\">\n      <!-- 0 -->\n      <g transform=\"translate(27.240625 233.673707)scale(0.1 -0.1)\">\n       <use xlink:href=\"#DejaVuSans-30\"/>\n      </g>\n     </g>\n    </g>\n    <g id=\"ytick_2\">\n     <g id=\"line2d_11\">\n      <g>\n       <use xlink:href=\"#mc655238ebe\" x=\"40.603125\" y=\"184.948869\" style=\"stroke: #000000; stroke-width: 0.8\"/>\n      </g>\n     </g>\n     <g id=\"text_12\">\n      <!-- 5 -->\n      <g transform=\"translate(27.240625 188.748088)scale(0.1 -0.1)\">\n       <use xlink:href=\"#DejaVuSans-35\"/>\n      </g>\n     </g>\n    </g>\n    <g id=\"ytick_3\">\n     <g id=\"line2d_12\">\n      <g>\n       <use xlink:href=\"#mc655238ebe\" x=\"40.603125\" y=\"140.023249\" style=\"stroke: #000000; stroke-width: 0.8\"/>\n      </g>\n     </g>\n     <g id=\"text_13\">\n      <!-- 10 -->\n      <g transform=\"translate(20.878125 143.822468)scale(0.1 -0.1)\">\n       <use xlink:href=\"#DejaVuSans-31\"/>\n       <use xlink:href=\"#DejaVuSans-30\" x=\"63.623047\"/>\n      </g>\n     </g>\n    </g>\n    <g id=\"ytick_4\">\n     <g id=\"line2d_13\">\n      <g>\n       <use xlink:href=\"#mc655238ebe\" x=\"40.603125\" y=\"95.097629\" style=\"stroke: #000000; stroke-width: 0.8\"/>\n      </g>\n     </g>\n     <g id=\"text_14\">\n      <!-- 15 -->\n      <g transform=\"translate(20.878125 98.896848)scale(0.1 -0.1)\">\n       <use xlink:href=\"#DejaVuSans-31\"/>\n       <use xlink:href=\"#DejaVuSans-35\" x=\"63.623047\"/>\n      </g>\n     </g>\n    </g>\n    <g id=\"ytick_5\">\n     <g id=\"line2d_14\">\n      <g>\n       <use xlink:href=\"#mc655238ebe\" x=\"40.603125\" y=\"50.172009\" style=\"stroke: #000000; stroke-width: 0.8\"/>\n      </g>\n     </g>\n     <g id=\"text_15\">\n      <!-- 20 -->\n      <g transform=\"translate(20.878125 53.971228)scale(0.1 -0.1)\">\n       <use xlink:href=\"#DejaVuSans-32\"/>\n       <use xlink:href=\"#DejaVuSans-30\" x=\"63.623047\"/>\n      </g>\n     </g>\n    </g>\n    <g id=\"text_16\">\n     <!-- races -->\n     <g transform=\"translate(14.798438 144.588125)rotate(-90)scale(0.1 -0.1)\">\n      <defs>\n       <path id=\"DejaVuSans-72\" d=\"M 2631 2963 \nQ 2534 3019 2420 3045 \nQ 2306 3072 2169 3072 \nQ 1681 3072 1420 2755 \nQ 1159 2438 1159 1844 \nL 1159 0 \nL 581 0 \nL 581 3500 \nL 1159 3500 \nL 1159 2956 \nQ 1341 3275 1631 3429 \nQ 1922 3584 2338 3584 \nQ 2397 3584 2469 3576 \nQ 2541 3569 2628 3553 \nL 2631 2963 \nz\n\" transform=\"scale(0.015625)\"/>\n       <path id=\"DejaVuSans-63\" d=\"M 3122 3366 \nL 3122 2828 \nQ 2878 2963 2633 3030 \nQ 2388 3097 2138 3097 \nQ 1578 3097 1268 2742 \nQ 959 2388 959 1747 \nQ 959 1106 1268 751 \nQ 1578 397 2138 397 \nQ 2388 397 2633 464 \nQ 2878 531 3122 666 \nL 3122 134 \nQ 2881 22 2623 -34 \nQ 2366 -91 2075 -91 \nQ 1284 -91 818 406 \nQ 353 903 353 1747 \nQ 353 2603 823 3093 \nQ 1294 3584 2113 3584 \nQ 2378 3584 2631 3529 \nQ 2884 3475 3122 3366 \nz\n\" transform=\"scale(0.015625)\"/>\n      </defs>\n      <use xlink:href=\"#DejaVuSans-72\"/>\n      <use xlink:href=\"#DejaVuSans-61\" x=\"41.113281\"/>\n      <use xlink:href=\"#DejaVuSans-63\" x=\"102.392578\"/>\n      <use xlink:href=\"#DejaVuSans-65\" x=\"157.373047\"/>\n      <use xlink:href=\"#DejaVuSans-73\" x=\"218.896484\"/>\n     </g>\n    </g>\n   </g>\n   <g id=\"line2d_15\">\n    <path d=\"M 55.821307 41.186885 \nL 131.912216 41.186885 \nL 208.003125 77.127381 \nL 284.094034 32.201761 \nL 360.184943 113.067877 \n\" clip-path=\"url(#pf5207cfbfe)\" style=\"fill: none; stroke: #1f77b4; stroke-width: 1.5; stroke-linecap: square\"/>\n   </g>\n   <g id=\"line2d_16\">\n    <path d=\"M 55.821307 229.874489 \nL 131.912216 211.904241 \nL 208.003125 229.874489 \nL 284.094034 229.874489 \nL 360.184943 202.919117 \n\" clip-path=\"url(#pf5207cfbfe)\" style=\"fill: none; stroke: #ff7f0e; stroke-width: 1.5; stroke-linecap: square\"/>\n   </g>\n   <g id=\"patch_3\">\n    <path d=\"M 40.603125 239.758125 \nL 40.603125 22.318125 \n\" style=\"fill: none; stroke: #000000; stroke-width: 0.8; stroke-linejoin: miter; stroke-linecap: square\"/>\n   </g>\n   <g id=\"patch_4\">\n    <path d=\"M 375.403125 239.758125 \nL 375.403125 22.318125 \n\" style=\"fill: none; stroke: #000000; stroke-width: 0.8; stroke-linejoin: miter; stroke-linecap: square\"/>\n   </g>\n   <g id=\"patch_5\">\n    <path d=\"M 40.603125 239.758125 \nL 375.403125 239.758125 \n\" style=\"fill: none; stroke: #000000; stroke-width: 0.8; stroke-linejoin: miter; stroke-linecap: square\"/>\n   </g>\n   <g id=\"patch_6\">\n    <path d=\"M 40.603125 22.318125 \nL 375.403125 22.318125 \n\" style=\"fill: none; stroke: #000000; stroke-width: 0.8; stroke-linejoin: miter; stroke-linecap: square\"/>\n   </g>\n   <g id=\"text_17\">\n    <!-- leclerc's F1 Career -->\n    <g transform=\"translate(152.450625 16.318125)scale(0.12 -0.12)\">\n     <defs>\n      <path id=\"DejaVuSans-6c\" d=\"M 603 4863 \nL 1178 4863 \nL 1178 0 \nL 603 0 \nL 603 4863 \nz\n\" transform=\"scale(0.015625)\"/>\n      <path id=\"DejaVuSans-27\" d=\"M 1147 4666 \nL 1147 2931 \nL 616 2931 \nL 616 4666 \nL 1147 4666 \nz\n\" transform=\"scale(0.015625)\"/>\n      <path id=\"DejaVuSans-20\" transform=\"scale(0.015625)\"/>\n      <path id=\"DejaVuSans-46\" d=\"M 628 4666 \nL 3309 4666 \nL 3309 4134 \nL 1259 4134 \nL 1259 2759 \nL 3109 2759 \nL 3109 2228 \nL 1259 2228 \nL 1259 0 \nL 628 0 \nL 628 4666 \nz\n\" transform=\"scale(0.015625)\"/>\n      <path id=\"DejaVuSans-43\" d=\"M 4122 4306 \nL 4122 3641 \nQ 3803 3938 3442 4084 \nQ 3081 4231 2675 4231 \nQ 1875 4231 1450 3742 \nQ 1025 3253 1025 2328 \nQ 1025 1406 1450 917 \nQ 1875 428 2675 428 \nQ 3081 428 3442 575 \nQ 3803 722 4122 1019 \nL 4122 359 \nQ 3791 134 3420 21 \nQ 3050 -91 2638 -91 \nQ 1578 -91 968 557 \nQ 359 1206 359 2328 \nQ 359 3453 968 4101 \nQ 1578 4750 2638 4750 \nQ 3056 4750 3426 4639 \nQ 3797 4528 4122 4306 \nz\n\" transform=\"scale(0.015625)\"/>\n     </defs>\n     <use xlink:href=\"#DejaVuSans-6c\"/>\n     <use xlink:href=\"#DejaVuSans-65\" x=\"27.783203\"/>\n     <use xlink:href=\"#DejaVuSans-63\" x=\"89.306641\"/>\n     <use xlink:href=\"#DejaVuSans-6c\" x=\"144.287109\"/>\n     <use xlink:href=\"#DejaVuSans-65\" x=\"172.070312\"/>\n     <use xlink:href=\"#DejaVuSans-72\" x=\"233.59375\"/>\n     <use xlink:href=\"#DejaVuSans-63\" x=\"272.457031\"/>\n     <use xlink:href=\"#DejaVuSans-27\" x=\"327.4375\"/>\n     <use xlink:href=\"#DejaVuSans-73\" x=\"354.927734\"/>\n     <use xlink:href=\"#DejaVuSans-20\" x=\"407.027344\"/>\n     <use xlink:href=\"#DejaVuSans-46\" x=\"438.814453\"/>\n     <use xlink:href=\"#DejaVuSans-31\" x=\"496.333984\"/>\n     <use xlink:href=\"#DejaVuSans-20\" x=\"559.957031\"/>\n     <use xlink:href=\"#DejaVuSans-43\" x=\"591.744141\"/>\n     <use xlink:href=\"#DejaVuSans-61\" x=\"661.568359\"/>\n     <use xlink:href=\"#DejaVuSans-72\" x=\"722.847656\"/>\n     <use xlink:href=\"#DejaVuSans-65\" x=\"761.710938\"/>\n     <use xlink:href=\"#DejaVuSans-65\" x=\"823.234375\"/>\n     <use xlink:href=\"#DejaVuSans-72\" x=\"884.757812\"/>\n    </g>\n   </g>\n   <g id=\"legend_1\">\n    <g id=\"patch_7\">\n     <path d=\"M 47.603125 154.555312 \nL 108.101562 154.555312 \nQ 110.101562 154.555312 110.101562 152.555312 \nL 110.101562 109.520937 \nQ 110.101562 107.520937 108.101562 107.520937 \nL 47.603125 107.520937 \nQ 45.603125 107.520937 45.603125 109.520937 \nL 45.603125 152.555312 \nQ 45.603125 154.555312 47.603125 154.555312 \nz\n\" style=\"fill: #ffffff; opacity: 0.8; stroke: #cccccc; stroke-linejoin: miter\"/>\n    </g>\n    <g id=\"text_18\">\n     <!-- driver -->\n     <g transform=\"translate(63.142188 119.119375)scale(0.1 -0.1)\">\n      <defs>\n       <path id=\"DejaVuSans-64\" d=\"M 2906 2969 \nL 2906 4863 \nL 3481 4863 \nL 3481 0 \nL 2906 0 \nL 2906 525 \nQ 2725 213 2448 61 \nQ 2172 -91 1784 -91 \nQ 1150 -91 751 415 \nQ 353 922 353 1747 \nQ 353 2572 751 3078 \nQ 1150 3584 1784 3584 \nQ 2172 3584 2448 3432 \nQ 2725 3281 2906 2969 \nz\nM 947 1747 \nQ 947 1113 1208 752 \nQ 1469 391 1925 391 \nQ 2381 391 2643 752 \nQ 2906 1113 2906 1747 \nQ 2906 2381 2643 2742 \nQ 2381 3103 1925 3103 \nQ 1469 3103 1208 2742 \nQ 947 2381 947 1747 \nz\n\" transform=\"scale(0.015625)\"/>\n       <path id=\"DejaVuSans-69\" d=\"M 603 3500 \nL 1178 3500 \nL 1178 0 \nL 603 0 \nL 603 3500 \nz\nM 603 4863 \nL 1178 4863 \nL 1178 4134 \nL 603 4134 \nL 603 4863 \nz\n\" transform=\"scale(0.015625)\"/>\n       <path id=\"DejaVuSans-76\" d=\"M 191 3500 \nL 800 3500 \nL 1894 563 \nL 2988 3500 \nL 3597 3500 \nL 2284 0 \nL 1503 0 \nL 191 3500 \nz\n\" transform=\"scale(0.015625)\"/>\n      </defs>\n      <use xlink:href=\"#DejaVuSans-64\"/>\n      <use xlink:href=\"#DejaVuSans-72\" x=\"63.476562\"/>\n      <use xlink:href=\"#DejaVuSans-69\" x=\"104.589844\"/>\n      <use xlink:href=\"#DejaVuSans-76\" x=\"132.373047\"/>\n      <use xlink:href=\"#DejaVuSans-65\" x=\"191.552734\"/>\n      <use xlink:href=\"#DejaVuSans-72\" x=\"253.076172\"/>\n     </g>\n    </g>\n    <g id=\"line2d_17\">\n     <path d=\"M 49.603125 130.2975 \nL 59.603125 130.2975 \nL 69.603125 130.2975 \n\" style=\"fill: none; stroke: #1f77b4; stroke-width: 1.5; stroke-linecap: square\"/>\n    </g>\n    <g id=\"text_19\">\n     <!-- starts -->\n     <g transform=\"translate(77.603125 133.7975)scale(0.1 -0.1)\">\n      <defs>\n       <path id=\"DejaVuSans-74\" d=\"M 1172 4494 \nL 1172 3500 \nL 2356 3500 \nL 2356 3053 \nL 1172 3053 \nL 1172 1153 \nQ 1172 725 1289 603 \nQ 1406 481 1766 481 \nL 2356 481 \nL 2356 0 \nL 1766 0 \nQ 1100 0 847 248 \nQ 594 497 594 1153 \nL 594 3053 \nL 172 3053 \nL 172 3500 \nL 594 3500 \nL 594 4494 \nL 1172 4494 \nz\n\" transform=\"scale(0.015625)\"/>\n      </defs>\n      <use xlink:href=\"#DejaVuSans-73\"/>\n      <use xlink:href=\"#DejaVuSans-74\" x=\"52.099609\"/>\n      <use xlink:href=\"#DejaVuSans-61\" x=\"91.308594\"/>\n      <use xlink:href=\"#DejaVuSans-72\" x=\"152.587891\"/>\n      <use xlink:href=\"#DejaVuSans-74\" x=\"193.701172\"/>\n      <use xlink:href=\"#DejaVuSans-73\" x=\"232.910156\"/>\n     </g>\n    </g>\n    <g id=\"line2d_18\">\n     <path d=\"M 49.603125 144.975625 \nL 59.603125 144.975625 \nL 69.603125 144.975625 \n\" style=\"fill: none; stroke: #ff7f0e; stroke-width: 1.5; stroke-linecap: square\"/>\n    </g>\n    <g id=\"text_20\">\n     <!-- wins -->\n     <g transform=\"translate(77.603125 148.475625)scale(0.1 -0.1)\">\n      <defs>\n       <path id=\"DejaVuSans-77\" d=\"M 269 3500 \nL 844 3500 \nL 1563 769 \nL 2278 3500 \nL 2956 3500 \nL 3675 769 \nL 4391 3500 \nL 4966 3500 \nL 4050 0 \nL 3372 0 \nL 2619 2869 \nL 1863 0 \nL 1184 0 \nL 269 3500 \nz\n\" transform=\"scale(0.015625)\"/>\n      </defs>\n      <use xlink:href=\"#DejaVuSans-77\"/>\n      <use xlink:href=\"#DejaVuSans-69\" x=\"81.787109\"/>\n      <use xlink:href=\"#DejaVuSans-6e\" x=\"109.570312\"/>\n      <use xlink:href=\"#DejaVuSans-73\" x=\"172.949219\"/>\n     </g>\n    </g>\n   </g>\n  </g>\n </g>\n <defs>\n  <clipPath id=\"pf5207cfbfe\">\n   <rect x=\"40.603125\" y=\"22.318125\" width=\"334.8\" height=\"217.44\"/>\n  </clipPath>\n </defs>\n</svg>\n",
      "text/plain": [
       "<Figure size 432x288 with 1 Axes>"
      ]
     },
     "metadata": {
      "needs_background": "light"
     },
     "output_type": "display_data"
    }
   ],
   "source": [
    "plot_data.plot(title=f\"{driver}'s F1 Career\", ylabel=\"races\")"
   ]
  },
  {
   "cell_type": "markdown",
   "metadata": {},
   "source": [
    "### Export the results"
   ]
  },
  {
   "cell_type": "code",
   "execution_count": 184,
   "metadata": {},
   "outputs": [],
   "source": [
    "# explore more possibilities to store the results, e.g. to_sql()\n",
    "f1_career.to_csv(f\"./results/f1_career_{driver}.csv\", index=False)"
   ]
  },
  {
   "cell_type": "markdown",
   "metadata": {},
   "source": [
    "# Further reading\n",
    "* [Loading a Dataframe from a SQL database](https://pythonspeed.com/articles/pandas-sql-chunking/)\n",
    "* [Connecting to Redshift from Python](https://docs.aws.amazon.com/redshift/latest/mgmt/python-connect-examples.html)\n",
    "* [Pandas I/O](https://pandas.pydata.org/docs/reference/io.html)"
   ]
  }
 ],
 "metadata": {
  "kernelspec": {
   "display_name": "Python 3.9.10 64-bit",
   "language": "python",
   "name": "python3"
  },
  "language_info": {
   "codemirror_mode": {
    "name": "ipython",
    "version": 3
   },
   "file_extension": ".py",
   "mimetype": "text/x-python",
   "name": "python",
   "nbconvert_exporter": "python",
   "pygments_lexer": "ipython3",
   "version": "3.9.10"
  },
  "orig_nbformat": 4,
  "vscode": {
   "interpreter": {
    "hash": "47b557a6e6b2c7556f2ced6b46319e2cd0b523bea16878464309bb73dc9044d5"
   }
  }
 },
 "nbformat": 4,
 "nbformat_minor": 2
}
